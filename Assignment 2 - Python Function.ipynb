{
 "cells": [
  {
   "cell_type": "markdown",
   "metadata": {},
   "source": [
    "## Problem Statement"
   ]
  },
  {
   "cell_type": "markdown",
   "metadata": {},
   "source": [
    "Q.1 Write a Python Program to implement your own myreduce() function which works exactly like\n",
    "Python's built-in function reduce()\n"
   ]
  },
  {
   "cell_type": "code",
   "execution_count": 6,
   "metadata": {},
   "outputs": [
    {
     "name": "stdout",
     "output_type": "stream",
     "text": [
      "Result for the multiplication =  120.0\n"
     ]
    }
   ],
   "source": [
    "def myreduce(function,inputs):\n",
    "    mul=1.0\n",
    "    for i in inputs:\n",
    "        mul=function(mul,i)\n",
    "    return mul\n",
    "def multiply(mul,i):\n",
    "    return mul*i\n",
    "\n",
    "result=myreduce(multiply,[5,8,3])\n",
    "print(\"Result for the multiplication = \",result)"
   ]
  },
  {
   "cell_type": "markdown",
   "metadata": {},
   "source": [
    "## ------------------------------------------------------------------------------------------"
   ]
  },
  {
   "cell_type": "markdown",
   "metadata": {},
   "source": [
    "Q.2 Write a Python program to implement your own myfilter() function which works exactly like\n",
    "Python's built-in function filter()"
   ]
  },
  {
   "cell_type": "code",
   "execution_count": 15,
   "metadata": {},
   "outputs": [
    {
     "name": "stdout",
     "output_type": "stream",
     "text": [
      "Filtered output is\n",
      "a o i u "
     ]
    }
   ],
   "source": [
    "def myfilter(function,inputs):\n",
    "    result=[]\n",
    "    for char in inputs:\n",
    "        if function(char):\n",
    "            result.append(char)\n",
    "    return result\n",
    "def find_vowels(char):\n",
    "    vowels=['a','e','i','o','u']\n",
    "    if char in vowels:\n",
    "            return True\n",
    "    else: \n",
    "            return False\n",
    "\n",
    "result=myfilter(find_vowels,['v','a','f','z','o','p','m','l','i','d','u'])\n",
    "print(\"Filtered output is\")\n",
    "for out in result:\n",
    "    print(out,end=' ')"
   ]
  },
  {
   "cell_type": "markdown",
   "metadata": {},
   "source": [
    "## ------------------------------------------------------------------------------------------"
   ]
  },
  {
   "cell_type": "markdown",
   "metadata": {},
   "source": [
    "Q.3 Implement List comprehensions to produce the following lists.\n",
    "   Write List comprehensions to produce the following Lists\n",
    "   \n",
    "    ['A', 'C', 'A', 'D', 'G', 'I', ’L’, ‘ D’]\n",
    "   \n",
    "    ['x', 'xx', 'xxx', 'xxxx', 'y', 'yy', 'yyy', 'yyyy', 'z', 'zz', 'zzz', 'zzzz']\n",
    "\n",
    "    ['x', 'y', 'z', 'xx', 'yy', 'zz', 'xx', 'yy', 'zz', 'xxxx', 'yyyy', 'zzzz']\n",
    "    \n",
    "    [[2], [3], [4], [3], [4], [5], [4], [5], [6]]\n",
    "\n",
    "    [[2, 3, 4, 5], [3, 4, 5, 6], [4, 5, 6, 7], [5, 6, 7, 8]]\n",
    "\n",
    "    [(1, 1), (2, 1), (3, 1), (1, 2), (2, 2), (3, 2), (1, 3), (2, 3), (3, 3)]"
   ]
  },
  {
   "cell_type": "code",
   "execution_count": 24,
   "metadata": {},
   "outputs": [
    {
     "name": "stdout",
     "output_type": "stream",
     "text": [
      "\n",
      " ['A', 'C', 'A', 'D', 'G', 'I', 'L', 'D']\n",
      "\n",
      " ['x', 'xx', 'xxx', 'xxxx', 'y', 'yy', 'yyy', 'yyyy', 'z', 'zz', 'zzz', 'zzzz']\n",
      "\n",
      " ['x', 'y', 'z', 'xx', 'yy', 'zz', 'xxxx', 'yyyy', 'zzzz']\n",
      "\n",
      " [[2], [3], [4], [3], [4], [5], [4], [5], [6]]\n",
      "\n",
      " [[2, 3, 4, 5], [3, 4, 5, 6], [4, 5, 6, 7], [5, 6, 7, 8]]\n",
      "\n",
      " [(1, 1), (2, 1), (3, 1), (1, 2), (2, 2), (3, 2), (1, 3), (2, 3), (3, 3)]\n"
     ]
    }
   ],
   "source": [
    "\n",
    "list1='ACADGILD'\n",
    "list1comprehension=[i for i in list1]\n",
    "print('\\n',list1comprehension)\n",
    "\n",
    "list2=['x','y','z']\n",
    "list2comprehension=[i*j for i in list2 for j in [1,2,3,4]]\n",
    "print('\\n',list2comprehension)\n",
    "\n",
    "list3comprehension=[i*j for i in [1,2,4] for j in list2]\n",
    "print('\\n',list3comprehension)\n",
    "\n",
    "list4comprehension=[[i+j] for i in [1,2,3] for j in [1,2,3]]\n",
    "print('\\n',list4comprehension)\n",
    "\n",
    "list5comprehension=[[i+j for i in [1,2,3,4]] for j in [1,2,3,4]]\n",
    "print('\\n',list5comprehension)\n",
    "\n",
    "list6comprehension=[(i,j) for j in [1,2,3] for i in [1,2,3]]\n",
    "print('\\n',list6comprehension)"
   ]
  },
  {
   "cell_type": "markdown",
   "metadata": {},
   "source": [
    "## ------------------------------------------------------------------------------------------"
   ]
  },
  {
   "cell_type": "markdown",
   "metadata": {},
   "source": [
    "Q.4 Implement a function longestWord() that takes a list of words and returns the longest one."
   ]
  },
  {
   "cell_type": "code",
   "execution_count": 5,
   "metadata": {},
   "outputs": [
    {
     "name": "stdout",
     "output_type": "stream",
     "text": [
      "The longest word is  containers\n"
     ]
    }
   ],
   "source": [
    "def longestWord(words_list):\n",
    "    max_len=0\n",
    "    for word in words_list:\n",
    "        if len(word)>max_len:\n",
    "            max_len=len(word)\n",
    "            max_word=word\n",
    "    return max_word\n",
    "\n",
    "words='This process continues till no more elements are left in the containers'\n",
    "words=words.split()\n",
    "longest_word=longestWord(words)\n",
    "print(\"The longest word is \",longest_word)"
   ]
  },
  {
   "cell_type": "markdown",
   "metadata": {},
   "source": [
    "## ------------------------------------------------------------------------------------------"
   ]
  },
  {
   "cell_type": "markdown",
   "metadata": {},
   "source": [
    "Q.5 Write a Python Program(with class concepts) to find the area of the triangle using the below\n",
    "formula.\n",
    "\n",
    "area = (s*(s-a)*(s-b)*(s-c)) ** 0.5\n",
    "\n",
    "Function to take the length of the sides of triangle from user should be defined in the parent\n",
    "class and function to calculate the area should be defined in subclass."
   ]
  },
  {
   "cell_type": "code",
   "execution_count": 19,
   "metadata": {
    "scrolled": true
   },
   "outputs": [
    {
     "name": "stdout",
     "output_type": "stream",
     "text": [
      "******* Enter the sides *********\n",
      "Enter the first side 'a' : 2\n",
      "Enter the second side 'b' : 3\n",
      "Enter the third side 'c' : 4\n",
      "Area of Triangle is : 2.905\n"
     ]
    }
   ],
   "source": [
    "class Area:\n",
    "    def __init__(self):\n",
    "        print(\"******* Enter the sides *********\")\n",
    "\n",
    "    def get_sides(self):\n",
    "        self.a=float(input(\"Enter the first side 'a' : \"))\n",
    "        self.b=float(input(\"Enter the second side 'b' : \"))\n",
    "        self.c=float(input(\"Enter the third side 'c' : \"))\n",
    "class Triangle_area(Area):\n",
    "    def __init__(self):\n",
    "        Area.__init__(self)\n",
    "        Area.get_sides(self)\n",
    "    def area_of_triangle(self):\n",
    "        self.s=(self.a+self.b+self.c)/2\n",
    "        self.area=(self.s*(self.s-self.a)*(self.s-self.b)*(self.s-self.c)) ** 0.5\n",
    "        print(\"Area of Triangle is : {0:.3f}\".format(self.area))\n",
    "\n",
    "area=Triangle_area()\n",
    "area.area_of_triangle()"
   ]
  },
  {
   "cell_type": "markdown",
   "metadata": {},
   "source": [
    "## ------------------------------------------------------------------------------------------"
   ]
  },
  {
   "cell_type": "markdown",
   "metadata": {},
   "source": [
    "Q.6 Write a function filter_long_words() that takes a list of words and an integer n and returns the list\n",
    "of words that are longer than n."
   ]
  },
  {
   "cell_type": "code",
   "execution_count": 1,
   "metadata": {},
   "outputs": [
    {
     "name": "stdout",
     "output_type": "stream",
     "text": [
      "The words longer than  4\n",
      "process\n",
      "continues\n",
      "elements\n",
      "containers\n"
     ]
    }
   ],
   "source": [
    "def filter_long_words(word_list,n):\n",
    "    for word in word_list:\n",
    "        if len(word)>n:\n",
    "            print(word)\n",
    "    \n",
    "    \n",
    "words='This process continues till no more elements are left in the containers'\n",
    "words=words.split()\n",
    "n=4\n",
    "print(\"The words longer than \",n)\n",
    "filter_long_words(words,n)\n",
    "    "
   ]
  },
  {
   "cell_type": "markdown",
   "metadata": {},
   "source": [
    "## ------------------------------------------------------------------------------------------"
   ]
  },
  {
   "cell_type": "markdown",
   "metadata": {},
   "source": [
    "Q.7 Write a Python program using function concept that maps list of words into a list of integers\n",
    "representing the lengths of the corresponding words.\n",
    "    \n",
    "    Hint: If a list [ ab,cde,erty] is passed on to the python function output should come as [2,3,4]\n",
    "    Here 2,3 and 4 are the lengths of the words in the list."
   ]
  },
  {
   "cell_type": "code",
   "execution_count": 5,
   "metadata": {},
   "outputs": [
    {
     "name": "stdout",
     "output_type": "stream",
     "text": [
      "The words are           :  ['This', 'process', 'continues', 'till', 'no', 'more', 'elements', 'are', 'left', 'in', 'the', 'containers']\n",
      "The length of words are :  [4, 7, 9, 4, 2, 4, 8, 3, 4, 2, 3, 10]\n"
     ]
    }
   ],
   "source": [
    "def word_map_length(words):\n",
    "    l=[]\n",
    "    for word in words:\n",
    "        l.append(len(word))\n",
    "    return l\n",
    "words='This process continues till no more elements are left in the containers'\n",
    "words=words.split()\n",
    "result=word_map_length(words)\n",
    "print(\"The words are           : \",words)\n",
    "print(\"The length of words are : \",result)"
   ]
  },
  {
   "cell_type": "markdown",
   "metadata": {},
   "source": [
    "## ------------------------------------------------------------------------------------------"
   ]
  },
  {
   "cell_type": "markdown",
   "metadata": {},
   "source": [
    "Q.8 Write a Python function which takes a character (i.e. a string of length 1) and returns True if it is\n",
    "a vowel, False otherwise."
   ]
  },
  {
   "cell_type": "code",
   "execution_count": 18,
   "metadata": {},
   "outputs": [
    {
     "name": "stdout",
     "output_type": "stream",
     "text": [
      "Enter a character --> b\n",
      "False\n"
     ]
    }
   ],
   "source": [
    "def vowel_or_not(char):\n",
    "    vowels=['a','e','i','o','u']\n",
    "    if char in vowels:\n",
    "        return True\n",
    "    else:\n",
    "        return False\n",
    "input_char=input(\"Enter a character --> \")\n",
    "print(vowel_or_not(input_char))"
   ]
  },
  {
   "cell_type": "markdown",
   "metadata": {},
   "source": [
    "## Great job!"
   ]
  }
 ],
 "metadata": {
  "kernelspec": {
   "display_name": "Python 3",
   "language": "python",
   "name": "python3"
  },
  "language_info": {
   "codemirror_mode": {
    "name": "ipython",
    "version": 3
   },
   "file_extension": ".py",
   "mimetype": "text/x-python",
   "name": "python",
   "nbconvert_exporter": "python",
   "pygments_lexer": "ipython3",
   "version": "3.7.3"
  }
 },
 "nbformat": 4,
 "nbformat_minor": 2
}
