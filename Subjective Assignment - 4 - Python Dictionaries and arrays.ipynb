{
 "cells": [
  {
   "cell_type": "markdown",
   "metadata": {},
   "source": [
    "# Assignment"
   ]
  },
  {
   "cell_type": "markdown",
   "metadata": {},
   "source": [
    "Q1. Write the Python program to create an instance of an OrderedDict \n",
    "using the given dictionary and sort dictionary during the\n",
    "creation and print members of the dictionary in reverse order?\n",
    "\n",
    "    Expected OutputAngola 244.\n",
    "    Andorra 376.\n",
    "    Algeria 213.\n",
    "    Afghanistan 93.\n",
    "    Albania 355.\n",
    "    In reverse orderAlbania 355.\n",
    "    Afghanistan 93.\n",
    "    Algeria 213.\n",
    "    Andorra 376.\n",
    "    Angola 244."
   ]
  },
  {
   "cell_type": "code",
   "execution_count": 28,
   "metadata": {
    "scrolled": true
   },
   "outputs": [
    {
     "name": "stdout",
     "output_type": "stream",
     "text": [
      "Given dictionary :\n",
      "\n",
      "Angola 244\n",
      "Andorra 376\n",
      "Algeria 213\n",
      "Afghanistan 93\n",
      "Albania 355\n",
      "\n",
      "In reverse order :\n",
      "\n",
      "Albania 355\n",
      "Afghanistan 93\n",
      "Algeria 213\n",
      "Andorra 376\n",
      "Angola 244\n"
     ]
    }
   ],
   "source": [
    "from collections import OrderedDict as od\n",
    "\n",
    "given_dict={'Angola':244,'Andorra':376,'Algeria':213,'Afghanistan':93,'Albania':355}\n",
    "\n",
    "print(\"Given dictionary :\\n\")\n",
    "\n",
    "ordered_dict=od(given_dict.items())\n",
    "\n",
    "for i,j in given_dict.items():\n",
    "    print(i,j)\n",
    "\n",
    "print('\\nIn reverse order :\\n')\n",
    "\n",
    "for i in reversed(ordered_dict):\n",
    "    print(i,ordered_dict[i])"
   ]
  },
  {
   "cell_type": "markdown",
   "metadata": {},
   "source": [
    "## -------------------------------------------------------------------------------------------------"
   ]
  },
  {
   "cell_type": "markdown",
   "metadata": {},
   "source": [
    "Q2. Write the Python program to compare two unordered lists (not\n",
    "sets)?\n",
    " \n",
    "     Expected Output: False"
   ]
  },
  {
   "cell_type": "code",
   "execution_count": 31,
   "metadata": {},
   "outputs": [
    {
     "data": {
      "text/plain": [
       "False"
      ]
     },
     "execution_count": 31,
     "metadata": {},
     "output_type": "execute_result"
    }
   ],
   "source": [
    "from collections import Counter\n",
    "\n",
    "def compare(s, t):\n",
    "    return Counter(s) == Counter(t)\n",
    "\n",
    "a = [1, 2, 3, 1, 2, 3]\n",
    "b = [3, 2, 1, 3, 2, 10]\n",
    "compare(a,b)"
   ]
  },
  {
   "cell_type": "markdown",
   "metadata": {},
   "source": [
    "## -------------------------------------------------------------------------------------------------"
   ]
  },
  {
   "cell_type": "markdown",
   "metadata": {},
   "source": [
    "Q3. Write the Python program to get an array buffer information?\n",
    "\n",
    "    Expected OutputArray buffer start address in memory and number of elements.\n",
    "    (25855056, 2)\n"
   ]
  },
  {
   "cell_type": "code",
   "execution_count": 46,
   "metadata": {},
   "outputs": [
    {
     "name": "stdout",
     "output_type": "stream",
     "text": [
      "Array buffer start address in memory and number of elements.\n",
      "(2347943889616, 2)\n"
     ]
    }
   ],
   "source": [
    "from array import array\n",
    "\n",
    "buffer_array = array(\"i\",[1,2])\n",
    "print(\"Array buffer start address in memory and number of elements.\")\n",
    "print(buffer_array.buffer_info())"
   ]
  },
  {
   "cell_type": "markdown",
   "metadata": {},
   "source": [
    "## -------------------------------------------------------------------------------------------------"
   ]
  },
  {
   "cell_type": "markdown",
   "metadata": {},
   "source": [
    "Q4. Write the Python program to convert an array to an array of\n",
    "machine values and return the bytes representation?\n",
    "\n",
    "    Expected OutputOriginal arrayA1: array('i', [1, 2, 3, 4, 5, 6])\n",
    "    Array of bytes:\n",
    "    b'010000000200000003000000040000000500000006000000"
   ]
  },
  {
   "cell_type": "code",
   "execution_count": 53,
   "metadata": {},
   "outputs": [
    {
     "name": "stdout",
     "output_type": "stream",
     "text": [
      "array('i', [1, 2, 3, 4, 5, 6])\n",
      "Array of bytes:\n",
      " b'010000000200000003000000040000000500000006000000'\n"
     ]
    }
   ],
   "source": [
    "import array \n",
    "import binascii\n",
    "print(arr)\n",
    "arr=array.array('i',[1,2,3,4,5,6])\n",
    "m=arr.tobytes()\n",
    "print('Array of bytes:\\n',binascii.hexlify(m))"
   ]
  },
  {
   "cell_type": "markdown",
   "metadata": {},
   "source": [
    "## -------------------------------------------------------------------------------------------------"
   ]
  },
  {
   "cell_type": "markdown",
   "metadata": {},
   "source": [
    "Q5. Write the Python program to read a string and interpreting the\n",
    "string as an array of machine values?\n",
    "\n",
    "    Expected Outputarray1- array('i', [7, 8, 9, 10])\n",
    "    Bytes- b'0700000008000000090000000a000000'\n",
    "    array2- array('i', [7, 8, 9, 10])"
   ]
  },
  {
   "cell_type": "code",
   "execution_count": 57,
   "metadata": {},
   "outputs": [
    {
     "name": "stdout",
     "output_type": "stream",
     "text": [
      "array1-  array('i', [7, 8, 9, 10])\n",
      "Bytes-  b'0700000008000000090000000a000000'\n",
      "array2-  array('i', [7, 8, 9, 10])\n"
     ]
    }
   ],
   "source": [
    "from array import array\n",
    "from binascii import hexlify\n",
    "\n",
    "arr1=array('i',[7, 8, 9, 10])\n",
    "byte=arr1.tobytes()\n",
    "print('array1- ',arr1)\n",
    "print('Bytes- ',hexlify(byte))\n",
    "arr2=array('i')\n",
    "arr2.frombytes(byte)\n",
    "print('array2- ',arr2)"
   ]
  },
  {
   "cell_type": "code",
   "execution_count": 55,
   "metadata": {
    "scrolled": true
   },
   "outputs": [
    {
     "name": "stdout",
     "output_type": "stream",
     "text": [
      "Enter a string : jos\n",
      "b'6a006f007300'\n",
      "array('u', 'jos')\n"
     ]
    }
   ],
   "source": [
    "from array import array\n",
    "from binascii import hexlify\n",
    "\n",
    "string=input(\"Enter a string : \")\n",
    "arr1=array('u',string)\n",
    "byte=arr1.tobytes()\n",
    "print(hexlify(byte))\n",
    "arr2=array('u')\n",
    "arr2.frombytes(byte)\n",
    "print(arr2)"
   ]
  },
  {
   "cell_type": "markdown",
   "metadata": {},
   "source": [
    "## -------------------------------------------------------------------------------------------------"
   ]
  },
  {
   "cell_type": "markdown",
   "metadata": {},
   "source": [
    "Q6. Write the Python program to push three items into the heap and\n",
    "return the smallest item from the heap. Also, return and pop the\n",
    "smallest item from the heap?\n",
    "    \n",
    "    Expected OutputItems in the heap-\n",
    "    ('VI', 1).\n",
    "    ('VII', 3).\n",
    "    ('VIII', 2).\n",
    "    ----------------------\n",
    "    The smallest item in the heap:\n",
    "    ('VI', 1).\n",
    "     ----------------------\n",
    "    Pop the smallest item in the heap:\n",
    "    ('VII', 2).\n",
    "    ('VIII', 3)."
   ]
  },
  {
   "cell_type": "code",
   "execution_count": 6,
   "metadata": {},
   "outputs": [
    {
     "name": "stdout",
     "output_type": "stream",
     "text": [
      "Items in the heap-\n",
      "('VI', 1)\n",
      "('VII', 3)\n",
      "('VIII', 2)\n",
      "--------------------\n",
      "The smallest item in the heap:\n",
      " ('VI', 1)\n",
      "--------------------\n",
      "Pop the smallest item in the heap:\n",
      "('VII', 3)\n",
      "('VIII', 2)\n"
     ]
    }
   ],
   "source": [
    "import heapq\n",
    "\n",
    "myheap=[('VI',1),('VII',3),('VIII',2)]\n",
    "heapq.heapify(myheap)\n",
    "print(\"Items in the heap-\")\n",
    "for item in myheap:\n",
    "    print(item)\n",
    "print(\"--------------------\")\n",
    "print(\"The smallest item in the heap:\\n\",heapq.heappop(myheap))\n",
    "print(\"--------------------\")\n",
    "print(\"Pop the smallest item in the heap:\")\n",
    "for i in range(len(myheap)):\n",
    "    print(heapq.heappop(myheap))\n"
   ]
  },
  {
   "cell_type": "markdown",
   "metadata": {},
   "source": [
    "## -------------------------------------------------------------------------------------------------"
   ]
  },
  {
   "cell_type": "markdown",
   "metadata": {},
   "source": [
    "Q7. Write the Python program to locate the left insertion point for a\n",
    "specified value in sorted order?\n",
    "\n",
    "    Expected Output:\n",
    "    4\n",
    "    2"
   ]
  },
  {
   "cell_type": "code",
   "execution_count": 18,
   "metadata": {
    "scrolled": true
   },
   "outputs": [
    {
     "name": "stdout",
     "output_type": "stream",
     "text": [
      "4\n",
      "2\n"
     ]
    }
   ],
   "source": [
    "def item_location(li,it):\n",
    "    for i in range(len(li)):\n",
    "        if li[i]>it:\n",
    "            return i\n",
    "    return len(li)   \n",
    "            \n",
    "\n",
    "s_list=[1,2,4,5]\n",
    "print( item_location(s_list,6))\n",
    "print( item_location(s_list,3))"
   ]
  },
  {
   "cell_type": "markdown",
   "metadata": {},
   "source": [
    "## -------------------------------------------------------------------------------------------------"
   ]
  },
  {
   "cell_type": "markdown",
   "metadata": {},
   "source": [
    "Q8. Write the Python program to create the FIFO queue?\n",
    "\n",
    "    Expected Output:\n",
    "    0 1 2 3"
   ]
  },
  {
   "cell_type": "code",
   "execution_count": 23,
   "metadata": {},
   "outputs": [
    {
     "name": "stdout",
     "output_type": "stream",
     "text": [
      "FIFO Queue is\n",
      "0 1 2 3 "
     ]
    }
   ],
   "source": [
    "import queue as q\n",
    "\n",
    "que=q.Queue()\n",
    "for i in range(4):\n",
    "    que.put(i)\n",
    "print(\"FIFO Queue is\")\n",
    "for i in range(que.qsize()):\n",
    "    print(que.get(),end=\" \")"
   ]
  },
  {
   "cell_type": "markdown",
   "metadata": {},
   "source": [
    "## -------------------------------------------------------------------------------------------------"
   ]
  },
  {
   "cell_type": "markdown",
   "metadata": {},
   "source": [
    "Q9. Write the Python program to calculate the harmonic sum of n-1.\n",
    " Note: The harmonic sum is the sum of reciprocals of the positive\n",
    "Integers?\n",
    "\n",
    "    Example:\n",
    "    1+1/2+1/3+1/4+1/5+...."
   ]
  },
  {
   "cell_type": "code",
   "execution_count": 26,
   "metadata": {},
   "outputs": [
    {
     "name": "stdout",
     "output_type": "stream",
     "text": [
      "2.9289682539682538\n"
     ]
    }
   ],
   "source": [
    "def harmonic_seq_sum(n):\n",
    "  if n < 2:\n",
    "    return 1\n",
    "  else:\n",
    "    return 1 / n + (harmonic_seq_sum(n - 1))\n",
    "    \n",
    "print(harmonic_seq_sum(10))\n",
    "\n"
   ]
  },
  {
   "cell_type": "markdown",
   "metadata": {},
   "source": [
    "## Great Job!"
   ]
  }
 ],
 "metadata": {
  "kernelspec": {
   "display_name": "Python 3",
   "language": "python",
   "name": "python3"
  },
  "language_info": {
   "codemirror_mode": {
    "name": "ipython",
    "version": 3
   },
   "file_extension": ".py",
   "mimetype": "text/x-python",
   "name": "python",
   "nbconvert_exporter": "python",
   "pygments_lexer": "ipython3",
   "version": "3.7.3"
  }
 },
 "nbformat": 4,
 "nbformat_minor": 2
}
