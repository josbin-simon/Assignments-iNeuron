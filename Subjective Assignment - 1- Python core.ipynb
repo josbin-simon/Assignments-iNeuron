{
 "cells": [
  {
   "cell_type": "markdown",
   "metadata": {},
   "source": [
    "Q1. Write a Python program to get the string from the given string where\n",
    "all the occurrence of its first char has been changed to '$,' except first\n",
    "char itself?\n",
    "\n",
    "    Sample String: 'prospect'\n",
    "    Expected Result : 'pros$ect'\n"
   ]
  },
  {
   "cell_type": "code",
   "execution_count": 1,
   "metadata": {},
   "outputs": [
    {
     "name": "stdout",
     "output_type": "stream",
     "text": [
      "Enter the string : prospect\n",
      "The output :  pros$ect\n"
     ]
    }
   ],
   "source": [
    "string=list(input(\"Enter the string : \"))\n",
    "check=string[0]\n",
    "actual_string=string[0]\n",
    "for i in range(1,len(string)):\n",
    "    if string[i]==check:\n",
    "        actual_string+='$'\n",
    "    else:\n",
    "        actual_string+=string[i]\n",
    "print(\"The output : \",actual_string)"
   ]
  },
  {
   "cell_type": "markdown",
   "metadata": {},
   "source": [
    "Q2. Write a Python program to get the single string from the two given\n",
    "strings, and separated by the space and swap the first two characters of\n",
    "each string?\n",
    "\n",
    "    Sample String : 'abc', 'xyz'.\n",
    "    Expected Result: 'xyc abz'"
   ]
  },
  {
   "cell_type": "code",
   "execution_count": 2,
   "metadata": {},
   "outputs": [
    {
     "name": "stdout",
     "output_type": "stream",
     "text": [
      "Enter string1 : python\n",
      "Enter string2 : programming\n",
      "Result :  prthon pyogramming\n"
     ]
    }
   ],
   "source": [
    "input1,input2=list(input(\"Enter string1 : \")),list(input(\"Enter string2 : \"))\n",
    "input1[0],input2[0]=input2[0],input1[0]\n",
    "input1[1],input2[1]=input2[1],input1[1]\n",
    "out=''\n",
    "for i in input1:\n",
    "    out+=i\n",
    "out+=\" \"\n",
    "for i in input2:\n",
    "    out+=i\n",
    "print('Result : ',out)"
   ]
  },
  {
   "cell_type": "markdown",
   "metadata": {},
   "source": [
    "Q3. Write the Python program to add 'ing' at the end of the given string\n",
    "(length of the string should be at least 3). If given string already ends\n",
    "with 'ing,' then add 'ly' instead. If string length of the given string is less\n",
    "than 3, leave it unchanged?\n",
    "\n",
    "\n",
    "    Sample string: ' abc '\n",
    "    Expected result: ' abcing '\n",
    "    Sample string: ' string '\n",
    "    Expected result: ' stringly '\n"
   ]
  },
  {
   "cell_type": "code",
   "execution_count": 21,
   "metadata": {},
   "outputs": [
    {
     "name": "stdout",
     "output_type": "stream",
     "text": [
      "sample string : abc\n",
      "Result :  abcing\n",
      "sample string : string\n",
      "Result :  stringly\n"
     ]
    }
   ],
   "source": [
    "for j in range(2):\n",
    "    string=input(\"sample string : \")\n",
    "    length=len(string)\n",
    "    if length<3:\n",
    "        print(\"Result : \",string)\n",
    "    else:\n",
    "        s=''\n",
    "        for i in range(length-3,length):\n",
    "            s+=string[i]\n",
    "        if s=='ing':\n",
    "            print(\"Result : \",string+'ly')\n",
    "        else:\n",
    "            print(\"Result : \",string+'ing')"
   ]
  },
  {
   "cell_type": "markdown",
   "metadata": {},
   "source": [
    "Q4. Write the Python program to find the first appearance of the\n",
    "substring 'not' and 'poor' from the given string, if 'not' follows the 'poor',\n",
    "replace the whole 'not'...' poor' substring with 'good'.Return the resulting\n",
    "string.\n",
    "\n",
    "    Sample string: 'The lyrics are not that poor!'\n",
    "    'The lyrics are poor!'\n",
    "    Expected Result: 'The lyrics are good!'\n",
    "    'The lyrics are poor!'"
   ]
  },
  {
   "cell_type": "code",
   "execution_count": 5,
   "metadata": {},
   "outputs": [
    {
     "name": "stdout",
     "output_type": "stream",
     "text": [
      "The lyrics are good ! The lyrics are poor ! \n"
     ]
    }
   ],
   "source": [
    "string='The lyrics are not that poor ! The lyrics are poor !'\n",
    "a=0\n",
    "b=0\n",
    "string_list=string.split()\n",
    "for i in range(len(string_list)):\n",
    "    if string_list[i]=='not':\n",
    "        a=i\n",
    "for i in range(a,a+3):\n",
    "    if string_list[i]=='poor':\n",
    "        b=i\n",
    "new_string=''\n",
    "if a<b:\n",
    "    del string_list[a:b+1]\n",
    "    string_list.insert(a,'good')\n",
    "    for j in string_list:\n",
    "        new_string=new_string+j+' '\n",
    "    print(new_string)\n",
    "else:\n",
    "    print(string_list)"
   ]
  },
  {
   "cell_type": "markdown",
   "metadata": {},
   "source": [
    "Q5. Write the Python program to remove the characters which have odd\n",
    "index values of a given string."
   ]
  },
  {
   "cell_type": "code",
   "execution_count": 13,
   "metadata": {},
   "outputs": [
    {
     "data": {
      "text/plain": [
       "'acegikmoqsuwy'"
      ]
     },
     "execution_count": 13,
     "metadata": {},
     "output_type": "execute_result"
    }
   ],
   "source": [
    "string='abcdefghijklmnopqrstuvwxyz'\n",
    "s_list=list(string)\n",
    "n_string=''\n",
    "for i in range(0,len(s_list),2):\n",
    "    n_string+=s_list[i]\n",
    "n_string"
   ]
  },
  {
   "cell_type": "markdown",
   "metadata": {},
   "source": [
    "Q6. Write the python program to print the following floating numbers up\n",
    "to 2 decimal places?"
   ]
  },
  {
   "cell_type": "code",
   "execution_count": 16,
   "metadata": {},
   "outputs": [
    {
     "name": "stdout",
     "output_type": "stream",
     "text": [
      "Floating numbers with 2 decimal places are\n",
      "\n",
      "First : 89.45\n",
      "Second : 0.89\n",
      "Third : 3.14\n"
     ]
    }
   ],
   "source": [
    "float1=89.4544\n",
    "float2=00.8877545\n",
    "float3=3.1428571\n",
    "print('Floating numbers with 2 decimal places are\\n')\n",
    "print(f\"First : {float1:.2f}\\nSecond : {float2:.2f}\\nThird : {float3:.2f}\")"
   ]
  },
  {
   "cell_type": "markdown",
   "metadata": {},
   "source": [
    "Q7. Write the Python program to format a number with a percentage?"
   ]
  },
  {
   "cell_type": "code",
   "execution_count": 9,
   "metadata": {},
   "outputs": [
    {
     "name": "stdout",
     "output_type": "stream",
     "text": [
      "Enter the number to be formatted to percentage : .10\n",
      "The number in percentage is : 10.00%\n"
     ]
    }
   ],
   "source": [
    "number=float(input(\"Enter the number to be formatted to percentage : \"))\n",
    "print(\"The number in percentage is : {:.2%}\".format(number))"
   ]
  },
  {
   "cell_type": "markdown",
   "metadata": {},
   "source": [
    "Q8. Write the Python program to count occurrences of a substring in a\n",
    "String?"
   ]
  },
  {
   "cell_type": "code",
   "execution_count": 42,
   "metadata": {},
   "outputs": [
    {
     "name": "stdout",
     "output_type": "stream",
     "text": [
      "Number of occurence of machine : 2\n"
     ]
    }
   ],
   "source": [
    "string='''When most people hear “ Machine Learning , ” they picture a robot : a dependable butler\n",
    "or a deadly Terminator depending on who you ask . But Machine Learning is not\n",
    "just a futuristic fantasy , it is already here'''\n",
    "sub_string='machine'\n",
    "string=string.lower()\n",
    "string=string.split()\n",
    "string=[i for i in string if i.isalpha()]\n",
    "print(f\"Number of occurence of {sub_string} :\",string.count(sub_string))\n"
   ]
  },
  {
   "cell_type": "markdown",
   "metadata": {},
   "source": [
    "Q9. Write the Python program to count repeated characters in a string.\n",
    "\n",
    "    Sample string: ' thequickbrownjumpsoverthelazydog '\n",
    "    \n",
    "    Expected output:\n",
    "    o 3\n",
    "    e 3\n",
    "    u 2\n",
    "    h 2\n",
    "    r 2\n",
    "    t 2"
   ]
  },
  {
   "cell_type": "code",
   "execution_count": 16,
   "metadata": {},
   "outputs": [
    {
     "name": "stdout",
     "output_type": "stream",
     "text": [
      "Enter the string : thequickbrownjumpsoverthelazydog\n",
      "t   2\n",
      "h   2\n",
      "e   3\n",
      "u   2\n",
      "r   2\n",
      "o   3\n"
     ]
    }
   ],
   "source": [
    "string=list(input(\"Enter the string : \"))\n",
    "\n",
    "l=[]\n",
    "dic={}\n",
    "for i in range(len(string)):\n",
    "    flag=0\n",
    "    count=0\n",
    "    temp=string[i]\n",
    "    for m in l:\n",
    "        if m==temp:\n",
    "            flag=1\n",
    "        else:\n",
    "            l.append(temp)\n",
    "    if flag==0:\n",
    "        for j in range(len(string)):\n",
    "            if string[j]==temp:\n",
    "                count+=1\n",
    "        if count>1:\n",
    "            dic.update({temp:count})\n",
    "for i,j in dic.items():\n",
    "    print(i+'   '+str(j))"
   ]
  },
  {
   "cell_type": "markdown",
   "metadata": {},
   "source": [
    "Q10. Write the Python program to print the square and cube symbol in\n",
    "the area of a rectangle and volume of a cylinder?\n",
    "\n",
    "    Sample outputThe area of the rectangle is 1256.66cm2\n",
    "    The volume of the cylinder is 1254.725cm3\n"
   ]
  },
  {
   "cell_type": "code",
   "execution_count": 49,
   "metadata": {},
   "outputs": [
    {
     "name": "stdout",
     "output_type": "stream",
     "text": [
      "The area of the rectangle is 1256.66cm2\n",
      "The volume of the cylinder is 1254.725cm3\n"
     ]
    }
   ],
   "source": [
    "area = 1256.66\n",
    "volume = 1254.725\n",
    "\n",
    "print(\"The area of the rectangle is {0:.2f}cm2\".format(area))\n",
    "\n",
    "print(\"The volume of the cylinder is {0:.3f}cm3\".format(volume))"
   ]
  },
  {
   "cell_type": "markdown",
   "metadata": {},
   "source": [
    "Q11. Write the Python program to check if a string contains all letters of\n",
    "the alphabet?"
   ]
  },
  {
   "cell_type": "code",
   "execution_count": 3,
   "metadata": {},
   "outputs": [
    {
     "name": "stdout",
     "output_type": "stream",
     "text": [
      "Type the string : qwertyuiopasdfghjklzxcvbnm\n",
      "The string contains all the letters of alphabet\n"
     ]
    }
   ],
   "source": [
    "alpha='abcdefghijklmnopqrstuvwxyz'\n",
    "alphabets=list(alpha)\n",
    "string=list(input(\"Type the string : \"))\n",
    "count=0\n",
    "for char in alphabets:\n",
    "    if char in string:\n",
    "        count+=1\n",
    "if count==26:\n",
    "    print(\"The string contains all the letters of alphabet\")\n",
    "else:\n",
    "    print(\"The string miss some letters of alphabet\")"
   ]
  },
  {
   "cell_type": "markdown",
   "metadata": {},
   "source": [
    "Q12. Write the Python program to find the second most repeated word\n",
    "in a given string?"
   ]
  },
  {
   "cell_type": "code",
   "execution_count": 43,
   "metadata": {},
   "outputs": [
    {
     "name": "stdout",
     "output_type": "stream",
     "text": [
      "Enter the string : thequickbrownjumpsoverthelazydog\n",
      "Second most repeated word :  t  2\n"
     ]
    }
   ],
   "source": [
    "string=list(input(\"Enter the string : \"))\n",
    "l=[]\n",
    "maxval=0\n",
    "smaxval=0\n",
    "maxchar=''\n",
    "smaxchar=''\n",
    "for i in range(len(string)):\n",
    "    temp=string[i]\n",
    "    count=0\n",
    "    if temp not in l:\n",
    "        l.append(temp)\n",
    "        for j in range(len(string)):\n",
    "            if string[j]==temp:\n",
    "                count+=1\n",
    "        if count>maxval:  \n",
    "            smaxval=maxval\n",
    "            smaxchar=maxchar\n",
    "            maxval=count\n",
    "            maxchar=temp\n",
    "        else:\n",
    "            if count>smaxval and count<maxval:\n",
    "                smaxval=count\n",
    "                smaxchar=temp\n",
    "print(\"Second most repeated word : \",smaxchar+\"  \"+str(smaxval))\n",
    "\n",
    "                "
   ]
  },
  {
   "cell_type": "markdown",
   "metadata": {},
   "source": [
    "Q13. Write the Python program to find the minimum window in the given\n",
    "string, which will contains all the characters of another given\n",
    "strings?\n",
    "\n",
    "    Example 1\n",
    "    Input : string1 = \" PRWSOERIUSFK \"\n",
    "    string2 = \" OSU \"\n",
    "    Output: Minimum window is \"OERIUS\""
   ]
  },
  {
   "cell_type": "code",
   "execution_count": 8,
   "metadata": {
    "scrolled": false
   },
   "outputs": [
    {
     "name": "stdout",
     "output_type": "stream",
     "text": [
      "Enter string1 : PRWSOERIUSFK\n",
      "Enter string2 : OUS\n",
      "Minimum window is :  OERIUS\n"
     ]
    }
   ],
   "source": [
    "from itertools import product\n",
    "\n",
    "def string_index(m):\n",
    "    j=[]\n",
    "    for i in range(len(string)):   \n",
    "        if string[i]==m:\n",
    "            j.append(i)\n",
    "    if len(j)==0 :\n",
    "        print(\"not posiible\")\n",
    "    else:\n",
    "        newlist.append(j)\n",
    "    \n",
    "sorte=[]\n",
    "newlist=[]\n",
    "\n",
    "strin=input(\"Enter string1 : \")\n",
    "strin=strin.split()\n",
    "string=''\n",
    "for i in strin:\n",
    "    string+=i\n",
    "   \n",
    "patter=input(\"Enter string2 : \")\n",
    "patter=patter.split()\n",
    "pattern=''\n",
    "for i in patter:\n",
    "    pattern+=i\n",
    "\n",
    "\n",
    "for i in pattern:\n",
    "    string_index(i)\n",
    "\n",
    "\n",
    "comb=list(product(*newlist))\n",
    "\n",
    "\n",
    "for i in comb:\n",
    "    k=sorted(i)\n",
    "    sorte.append(k)\n",
    "\n",
    "\n",
    "index=0\n",
    "l=0\n",
    "ma=0\n",
    "mi=0\n",
    "f=0\n",
    "\n",
    "for i in range(len(sorte)):\n",
    "        l=sorte[i][-1]-sorte[i][0]\n",
    "        if l>ma:\n",
    "            ma=l\n",
    "            if f==0:\n",
    "                mi=l\n",
    "                index=i\n",
    "                f=1\n",
    "        if l<=mi:\n",
    "            mi=l\n",
    "            index=i\n",
    "\n",
    "y=sorte[index][0]\n",
    "z=sorte[index][-1]+1\n",
    "temp=string[y:z]\n",
    "\n",
    "print(\"Minimum window is : \",temp)\n",
    "\n"
   ]
  },
  {
   "cell_type": "markdown",
   "metadata": {},
   "source": [
    "Q14. Write the Python program to count number of substrings from a\n",
    "given string of lowercase alphabets with exactly k distinct (given)\n",
    "characters?\n",
    "\n",
    "    Input a string (lowercase alphabets): wolf\n",
    "    Input k: 4\n",
    "    Number of substrings with exactly 4 distinct characters: 1"
   ]
  },
  {
   "cell_type": "code",
   "execution_count": 64,
   "metadata": {
    "scrolled": true
   },
   "outputs": [
    {
     "name": "stdout",
     "output_type": "stream",
     "text": [
      "Enter the strings (lowercase alphabets) : wolf\n",
      "How many distict charcters : 4\n",
      "Number of substrings with exactly 4 distinct characters: 1\n"
     ]
    }
   ],
   "source": [
    "from itertools import combinations\n",
    "string=list(input(\"Enter the strings (lowercase alphabets) : \"))\n",
    "k=int(input(\"How many distict charcters : \"))\n",
    "n=len(list(combinations(string,k)))\n",
    "print(f\"Number of substrings with exactly {k} distinct characters: {n}\")"
   ]
  },
  {
   "cell_type": "markdown",
   "metadata": {},
   "source": [
    "Q15. Write the Python program to count number of substrings with same\n",
    "first and last characters of the given string?\n",
    "\n",
    "    Input a string: abcd\n",
    "    4\n"
   ]
  },
  {
   "cell_type": "code",
   "execution_count": 71,
   "metadata": {},
   "outputs": [
    {
     "name": "stdout",
     "output_type": "stream",
     "text": [
      "Enter the string : abcd\n",
      "4\n"
     ]
    }
   ],
   "source": [
    "from itertools import combinations\n",
    "string=list(input(\"Enter the string : \"))\n",
    "count=0\n",
    "for i in range(1,len(string)):\n",
    "    comb=list(combinations(string,i))\n",
    "    for each in comb:\n",
    "        if each[0]==string[0] and each[-1]==string[-1]:\n",
    "            count+=1\n",
    "print(count+1) #abcd is also possible"
   ]
  },
  {
   "cell_type": "markdown",
   "metadata": {},
   "source": [
    "## Great Job!"
   ]
  }
 ],
 "metadata": {
  "kernelspec": {
   "display_name": "Python 3",
   "language": "python",
   "name": "python3"
  },
  "language_info": {
   "codemirror_mode": {
    "name": "ipython",
    "version": 3
   },
   "file_extension": ".py",
   "mimetype": "text/x-python",
   "name": "python",
   "nbconvert_exporter": "python",
   "pygments_lexer": "ipython3",
   "version": "3.7.3"
  }
 },
 "nbformat": 4,
 "nbformat_minor": 2
}
