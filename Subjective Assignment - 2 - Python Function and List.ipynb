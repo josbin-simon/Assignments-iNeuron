{
 "cells": [
  {
   "cell_type": "markdown",
   "metadata": {},
   "source": [
    "# Assignments"
   ]
  },
  {
   "cell_type": "markdown",
   "metadata": {},
   "source": [
    "Q1. Write the Python function to get a string made of 4 copies of the last\n",
    "two characters of the specified string (length must be at least 2).\n",
    "\n",
    "    Sample function and result :\n",
    "    insert-end ('Python') -> abababab\n",
    "    insert-end('Exercises') -> jkjkjkjk"
   ]
  },
  {
   "cell_type": "code",
   "execution_count": 1,
   "metadata": {},
   "outputs": [
    {
     "name": "stdout",
     "output_type": "stream",
     "text": [
      "Enter the string with atleast length of 2 : exercise\n",
      "sesesese\n"
     ]
    }
   ],
   "source": [
    "def insert_end(string):\n",
    "    n=len(string)\n",
    "    string=string[n-2:n]\n",
    "    print(string*4)\n",
    "\n",
    "string=input(\"Enter the string with atleast length of 2 : \")\n",
    "insert_end(string)\n"
   ]
  },
  {
   "cell_type": "markdown",
   "metadata": {},
   "source": [
    "## -------------------------------------------------------------------------------------------------"
   ]
  },
  {
   "cell_type": "markdown",
   "metadata": {},
   "source": [
    "Q2. Write the python function to get a string made of its first three\n",
    "characters of a specified string. If the length of the string is less than 3\n",
    "then return the original string.\n",
    "    \n",
    "    Sample function and result :\n",
    "    first-three('ipy') -> ipy\n",
    "    first-three('python') -> pyt"
   ]
  },
  {
   "cell_type": "code",
   "execution_count": 9,
   "metadata": {},
   "outputs": [
    {
     "name": "stdout",
     "output_type": "stream",
     "text": [
      "Enter the string : python\n",
      "pyt\n",
      "Enter the string : god\n",
      "god\n"
     ]
    }
   ],
   "source": [
    "def insert_end(string):\n",
    "    n=len(string)\n",
    "    if n>=3:\n",
    "        string=string[:3]\n",
    "        print(string)\n",
    "    else:\n",
    "        print(string)\n",
    "\n",
    "string=input(\"Enter the string : \")\n",
    "insert_end(string)\n",
    "string=input(\"Enter the string : \")\n",
    "insert_end(string)"
   ]
  },
  {
   "cell_type": "markdown",
   "metadata": {},
   "source": [
    "## -------------------------------------------------------------------------------------------------"
   ]
  },
  {
   "cell_type": "markdown",
   "metadata": {},
   "source": [
    "Q3. Write the Python program to find smallest window that contains all\n",
    "characters of the given string?\n",
    "\n",
    "    Original Strings:\n",
    "    asdaewsqgtwwsa\n",
    "    Smallest window that contains all characters of the said string:\n",
    "    Daewsqgt"
   ]
  },
  {
   "cell_type": "code",
   "execution_count": 11,
   "metadata": {},
   "outputs": [
    {
     "name": "stdout",
     "output_type": "stream",
     "text": [
      "Enter string1 : asdaewsqgtwwsa\n",
      "Enter string2 : Daewsqgt\n",
      "Minimum window is :  daewsqgt\n"
     ]
    }
   ],
   "source": [
    "from itertools import product\n",
    "\n",
    "def string_index(m):\n",
    "    j=[]\n",
    "    for i in range(len(string)):   \n",
    "        if string[i]==m:\n",
    "            j.append(i)\n",
    "    if len(j)!=0 :\n",
    "        newlist.append(j)\n",
    "    \n",
    "sorte=[]\n",
    "newlist=[]\n",
    "\n",
    "strin=input(\"Enter string1 : \")\n",
    "strin=strin.lower()\n",
    "strin=strin.split()\n",
    "string=''\n",
    "for i in strin:\n",
    "    string+=i\n",
    "   \n",
    "patter=input(\"Enter string2 : \")\n",
    "patter=patter.lower()\n",
    "patter=patter.split()\n",
    "pattern=''\n",
    "for i in patter:\n",
    "    pattern+=i\n",
    "\n",
    "\n",
    "for i in pattern:\n",
    "    string_index(i)\n",
    "\n",
    "if len(newlist)==len(pattern):\n",
    "    comb=list(product(*newlist))\n",
    "\n",
    "\n",
    "    for i in comb:\n",
    "        k=sorted(i)\n",
    "        sorte.append(k)\n",
    "\n",
    "\n",
    "    index=0\n",
    "    l=0\n",
    "    ma=0\n",
    "    mi=0\n",
    "    f=0\n",
    "\n",
    "    for i in range(len(sorte)):\n",
    "            l=sorte[i][-1]-sorte[i][0]\n",
    "            if l>ma:\n",
    "                ma=l\n",
    "                if f==0:\n",
    "                    mi=l\n",
    "                    index=i\n",
    "                    f=1\n",
    "            if l<=mi:\n",
    "                mi=l\n",
    "                index=i\n",
    "\n",
    "    y=sorte[index][0]\n",
    "    z=sorte[index][-1]+1\n",
    "    temp=string[y:z]\n",
    "\n",
    "    print(\"Minimum window is : \",temp)\n",
    "\n",
    "else: \n",
    "    print(\"Pattern is not in the string\")\n"
   ]
  },
  {
   "cell_type": "markdown",
   "metadata": {},
   "source": [
    "## -------------------------------------------------------------------------------------------------"
   ]
  },
  {
   "cell_type": "markdown",
   "metadata": {},
   "source": [
    "Q4. Write the Python program to count number of substrings from a\n",
    "given string of lowercase alphabets with exactly k distinct (given)\n",
    "characters?\n",
    "\n",
    "    Input a string (lowercase alphabets): wolf\n",
    "    Input k: 4\n",
    "    Number of substrings with exactly 4 distinct characters: 1"
   ]
  },
  {
   "cell_type": "code",
   "execution_count": 12,
   "metadata": {},
   "outputs": [
    {
     "name": "stdout",
     "output_type": "stream",
     "text": [
      "Enter the strings (lowercase alphabets) : wolf\n",
      "How many distict charcters : 4\n",
      "Number of substrings with exactly 4 distinct characters: 1\n"
     ]
    }
   ],
   "source": [
    "from itertools import combinations\n",
    "string=list(input(\"Enter the strings (lowercase alphabets) : \"))\n",
    "k=int(input(\"How many distict charcters : \"))\n",
    "n=len(list(combinations(string,k)))\n",
    "print(f\"Number of substrings with exactly {k} distinct characters: {n}\")"
   ]
  },
  {
   "cell_type": "markdown",
   "metadata": {},
   "source": [
    "## -------------------------------------------------------------------------------------------------"
   ]
  },
  {
   "cell_type": "markdown",
   "metadata": {},
   "source": [
    "Q5. Write the Python program to count number of non-empty\n",
    "substrings of the given string?\n",
    "\n",
    "    Input a string: w3resource\n",
    "    Number of substrings:\n",
    "    55"
   ]
  },
  {
   "cell_type": "code",
   "execution_count": 23,
   "metadata": {},
   "outputs": [
    {
     "name": "stdout",
     "output_type": "stream",
     "text": [
      "Enter the strings : w3resource\n",
      "Number of substrings :  998\n"
     ]
    }
   ],
   "source": [
    "from itertools import combinations\n",
    "string=list(input(\"Enter the strings : \"))\n",
    "n=0\n",
    "k=len(string)\n",
    "for i in range(1,k):\n",
    "    temp=list(combinations(string,i))\n",
    "    uniq=set(temp)\n",
    "    n+=len(uniq)\n",
    "print(\"Number of substrings : \",n)"
   ]
  },
  {
   "cell_type": "markdown",
   "metadata": {},
   "source": [
    "## -------------------------------------------------------------------------------------------------"
   ]
  },
  {
   "cell_type": "markdown",
   "metadata": {},
   "source": [
    "Q6. Write the Python program to count the number of strings where the\n",
    "string length is 2 or more, and first and last character are same\n",
    "from a given list of strings.\n",
    "\n",
    "    Sample List : ['abc', 'xyz', 'wxw', '1331']\n",
    "    Expected Result: 2"
   ]
  },
  {
   "cell_type": "code",
   "execution_count": 24,
   "metadata": {},
   "outputs": [
    {
     "name": "stdout",
     "output_type": "stream",
     "text": [
      "Number of strings satisfying condition :  2\n"
     ]
    }
   ],
   "source": [
    "sample=['abc', 'xyz', 'wxw', '1331']\n",
    "count=0\n",
    "for string in sample:\n",
    "    if len(string)>=2 and string[0]==string[-1]:\n",
    "        count+=1\n",
    "print(\"Number of strings satisfying condition : \",count)"
   ]
  },
  {
   "cell_type": "markdown",
   "metadata": {},
   "source": [
    "## -------------------------------------------------------------------------------------------------"
   ]
  },
  {
   "cell_type": "markdown",
   "metadata": {},
   "source": [
    "Q7. Write the Python program to get a list, sorted in increasing order by\n",
    "the last element in each tuple from the given list of non-empty\n",
    "tuples?\n",
    "\n",
    "    Sample List - [ (2, 5), (1, 2), (4, 4), (2, 3), (2, 1) ]\n",
    "    Expected Result - [ (2, 1), (1, 2), (2, 3), (4, 4), (2, 5) ]"
   ]
  },
  {
   "cell_type": "code",
   "execution_count": 6,
   "metadata": {},
   "outputs": [
    {
     "name": "stdout",
     "output_type": "stream",
     "text": [
      "Sorted list of tuple is\n",
      " [(2, 1), (1, 2), (2, 3), (4, 4), (2, 5)]\n"
     ]
    }
   ],
   "source": [
    "sample=[(2, 5),(1, 2),(4, 4),(2, 3),(2, 1) ]\n",
    "sorted_list=sorted(sample, key=lambda x: x[1])\n",
    "print(\"Sorted list of tuple is\\n\",sorted_list)\n"
   ]
  },
  {
   "cell_type": "markdown",
   "metadata": {},
   "source": [
    "## -------------------------------------------------------------------------------------------------"
   ]
  },
  {
   "cell_type": "markdown",
   "metadata": {},
   "source": [
    "Q8. Write the Python program to remove duplicates from a list?"
   ]
  },
  {
   "cell_type": "code",
   "execution_count": 1,
   "metadata": {},
   "outputs": [
    {
     "name": "stdout",
     "output_type": "stream",
     "text": [
      "without duplication :  [10, 20, 30, 40, 50, -20, 60]\n"
     ]
    }
   ],
   "source": [
    "lit=[10,20,30,20,20,30,40,50,-20,60,60,-20,-20]\n",
    "temp=[]\n",
    "for item in lit:\n",
    "    if item not in temp:\n",
    "        temp.append(item)\n",
    "\n",
    "print(\"without duplication : \",temp)"
   ]
  },
  {
   "cell_type": "markdown",
   "metadata": {},
   "source": [
    "## -------------------------------------------------------------------------------------------------"
   ]
  },
  {
   "cell_type": "markdown",
   "metadata": {},
   "source": [
    "Q9. Write the Python program to find the list of words that are longer\n",
    "than n from a given list of words?"
   ]
  },
  {
   "cell_type": "code",
   "execution_count": 2,
   "metadata": {},
   "outputs": [
    {
     "name": "stdout",
     "output_type": "stream",
     "text": [
      "The words longer than  4\n",
      "process\n",
      "continues\n",
      "elements\n",
      "containers\n"
     ]
    }
   ],
   "source": [
    "def filter_long_words(word_list,n):\n",
    "    for word in word_list:\n",
    "        if len(word)>n:\n",
    "            print(word)\n",
    "    \n",
    "    \n",
    "words='This process continues till no more elements are left in the containers'\n",
    "words=words.split()\n",
    "n=4\n",
    "print(\"The words longer than \",n)\n",
    "filter_long_words(words,n)"
   ]
  },
  {
   "cell_type": "markdown",
   "metadata": {},
   "source": [
    "## -------------------------------------------------------------------------------------------------"
   ]
  },
  {
   "cell_type": "markdown",
   "metadata": {},
   "source": [
    "Q10. Write the Python program to print a specified list after removing the\n",
    "0th, 4th, and 5th elements?\n",
    "    \n",
    "    Sample List - ['Red', 'Green', 'White', 'Black', 'Pink', 'Yellow']\n",
    "    Expected Output - ['Green', 'White', 'Black']"
   ]
  },
  {
   "cell_type": "code",
   "execution_count": 5,
   "metadata": {},
   "outputs": [
    {
     "name": "stdout",
     "output_type": "stream",
     "text": [
      "['Green', 'White', 'Black']\n"
     ]
    }
   ],
   "source": [
    "sample=['Red', 'Green', 'White', 'Black', 'Pink', 'Yellow']\n",
    "sample=[sample[i] for i in range(len(sample)) if i not in [0,4,5]]\n",
    "print(sample)"
   ]
  },
  {
   "cell_type": "markdown",
   "metadata": {},
   "source": [
    "## -------------------------------------------------------------------------------------------------"
   ]
  },
  {
   "cell_type": "markdown",
   "metadata": {},
   "source": [
    "Q11. Write the Python program to generate all permutations of a list in\n",
    "Python?"
   ]
  },
  {
   "cell_type": "code",
   "execution_count": 8,
   "metadata": {},
   "outputs": [
    {
     "name": "stdout",
     "output_type": "stream",
     "text": [
      "(15, 54, 4, 7)\n",
      "(15, 54, 7, 4)\n",
      "(15, 4, 54, 7)\n",
      "(15, 4, 7, 54)\n",
      "(15, 7, 54, 4)\n",
      "(15, 7, 4, 54)\n",
      "(54, 15, 4, 7)\n",
      "(54, 15, 7, 4)\n",
      "(54, 4, 15, 7)\n",
      "(54, 4, 7, 15)\n",
      "(54, 7, 15, 4)\n",
      "(54, 7, 4, 15)\n",
      "(4, 15, 54, 7)\n",
      "(4, 15, 7, 54)\n",
      "(4, 54, 15, 7)\n",
      "(4, 54, 7, 15)\n",
      "(4, 7, 15, 54)\n",
      "(4, 7, 54, 15)\n",
      "(7, 15, 54, 4)\n",
      "(7, 15, 4, 54)\n",
      "(7, 54, 15, 4)\n",
      "(7, 54, 4, 15)\n",
      "(7, 4, 15, 54)\n",
      "(7, 4, 54, 15)\n"
     ]
    }
   ],
   "source": [
    "from itertools import permutations\n",
    "sample=[15,54,4,7]\n",
    "k=[print(i) for i in permutations(sample)]"
   ]
  },
  {
   "cell_type": "markdown",
   "metadata": {},
   "source": [
    "## -------------------------------------------------------------------------------------------------"
   ]
  },
  {
   "cell_type": "markdown",
   "metadata": {},
   "source": [
    "Q12. Write the Python program to convert a pair of values into a sorted\n",
    "unique array?\n",
    " \n",
    "    Original List- [ (1, 2), (3, 4), (1, 2), (5, 6), (7, 8), (1, 2), (3, 4), (3, 4), (7, 8), (9, 10) ]\n",
    "    Sorted Unique Data- [ 1, 2, 3, 4, 5, 6, 7, 8, 9, 10 ] \n"
   ]
  },
  {
   "cell_type": "code",
   "execution_count": 15,
   "metadata": {},
   "outputs": [
    {
     "name": "stdout",
     "output_type": "stream",
     "text": [
      "Sorted Unique Data-  [1, 2, 3, 4, 5, 6, 7, 8, 9, 10]\n"
     ]
    }
   ],
   "source": [
    "orgin=[ (1, 2), (3, 4), (1, 2), (5, 6), (7, 8), (1, 2), (3, 4), (3, 4), (7, 8), (9, 10) ]\n",
    "l=[]\n",
    "for item in orgin:\n",
    "    l.append(item[0])\n",
    "    l.append(item[1])\n",
    "result=sorted(set(l))\n",
    "print(\"Sorted Unique Data- \",result)"
   ]
  },
  {
   "cell_type": "markdown",
   "metadata": {},
   "source": [
    "## Great job!"
   ]
  }
 ],
 "metadata": {
  "kernelspec": {
   "display_name": "Python 3",
   "language": "python",
   "name": "python3"
  },
  "language_info": {
   "codemirror_mode": {
    "name": "ipython",
    "version": 3
   },
   "file_extension": ".py",
   "mimetype": "text/x-python",
   "name": "python",
   "nbconvert_exporter": "python",
   "pygments_lexer": "ipython3",
   "version": "3.7.3"
  }
 },
 "nbformat": 4,
 "nbformat_minor": 2
}
