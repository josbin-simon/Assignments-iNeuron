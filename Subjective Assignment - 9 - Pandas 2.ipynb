{
 "cells": [
  {
   "cell_type": "markdown",
   "metadata": {},
   "source": [
    "# Subjective Assignment - 9 - Pandas 2"
   ]
  },
  {
   "cell_type": "markdown",
   "metadata": {},
   "source": [
    "Link for Datasets\n",
    "(https://drive.google.com/drive/folders/105ftuIwN9kqyPNEEm3E6IM7LqywjyvJa?usp=sharing)"
   ]
  },
  {
   "cell_type": "markdown",
   "metadata": {},
   "source": [
    "Q21. Write a pandas program to import three datasheets from a given\n",
    "excel data (coalpublic2013.xlsx ) in to a single dataframe.\n",
    " \n",
    "Note: Structure of three datasheets are same."
   ]
  },
  {
   "cell_type": "code",
   "execution_count": 1,
   "metadata": {},
   "outputs": [],
   "source": [
    "import pandas as pd"
   ]
  },
  {
   "cell_type": "code",
   "execution_count": 7,
   "metadata": {
    "scrolled": true
   },
   "outputs": [
    {
     "name": "stdout",
     "output_type": "stream",
     "text": [
      "    Year  MSHA ID                       Mine_Name  Production  Labor_Hours\n",
      "0   2013   103381            Tacoa Highwall Miner       56004        22392\n",
      "1   2013   103404                Reid School Mine       28807        28447\n",
      "2   2013   100759  North River #1 Underground Min     1440115       474784\n",
      "3   2013   103246                      Bear Creek       87587        29193\n",
      "4   2013   103451                     Knight Mine      147499        46393\n",
      "5   2013   103433              Crane Central Mine       69339        47195\n",
      "6   2013   100329                    Concord Mine           0       144002\n",
      "7   2013   100851                  Oak Grove Mine     2269014      1001809\n",
      "8   2013   102901                Shoal Creek Mine           0        12396\n",
      "9   2013   102901                Shoal Creek Mine     1453024      1237415\n",
      "10  2013   103180             Sloan Mountain Mine      327780       196963\n",
      "11  2013   103182                        Fishtrap      175058        87314\n",
      "12  2013   103285                     Narley Mine      154861        90584\n",
      "13  2013   103332                   Powhatan Mine      140521        61394\n",
      "14  2013   103375                    Johnson Mine         580         1900\n",
      "15  2013   103419               Maxine-Pratt Mine      125824       107469\n",
      "16  2013   103432                   Skelton Creek        8252          220\n",
      "17  2013   103437         Black Warrior Mine No 1      145924        70926\n",
      "18  2013   102976   Piney Woods Preparation Plant           0        14828\n",
      "19  2013   102976   Piney Woods Preparation Plant           0        23193\n",
      "20  2013   103380                          Calera           0        12621\n",
      "21  2013   103380                          Calera           0         1402\n",
      "22  2013   103422                 Clark No 1 Mine      122727       140250\n",
      "23  2013   103467             Helena Surface Mine       59664        30539\n",
      "24  2013   101247                       No 4 Mine     2622528      1551141\n",
      "25  2013   101401                       No 7 Mine     5405412      2464719\n",
      "26  2013   103172  Searles Mine No. 2, 3, 4, 5, 6      258078       119542\n",
      "27  2013   103179             Fleetwood Mine No 1       75937        63745\n",
      "28  2013   103303                    Shannon Mine      317491       164388\n",
      "29  2013   103323                   Deerlick Mine      133452        46381\n",
      "..   ...      ...                             ...         ...          ...\n",
      "20  2013   103380                          Calera           0        12621\n",
      "21  2013   103380                          Calera           0         1402\n",
      "22  2013   103422                 Clark No 1 Mine      122727       140250\n",
      "23  2013   103467             Helena Surface Mine       59664        30539\n",
      "24  2013   101247                       No 4 Mine     2622528      1551141\n",
      "25  2013   101401                       No 7 Mine     5405412      2464719\n",
      "26  2013   103172  Searles Mine No. 2, 3, 4, 5, 6      258078       119542\n",
      "27  2013   103179             Fleetwood Mine No 1       75937        63745\n",
      "28  2013   103303                    Shannon Mine      317491       164388\n",
      "29  2013   103323                   Deerlick Mine      133452        46381\n",
      "30  2013   103364           Brc Alabama No. 7 Llc           0        14324\n",
      "31  2013   103436                Swann's Crossing      137511        77190\n",
      "32  2013   100347                    Choctaw Mine      537429       215295\n",
      "33  2013   101362                 Manchester Mine      219457       116914\n",
      "34  2013   102996                  Jap Creek Mine      375715       164093\n",
      "35  2013   103155              Corinth Prep Plant           0        27996\n",
      "36  2013   103155              Corinth Prep Plant           0        51994\n",
      "37  2013   103195     Mccollum/Sparks Branch Mine       71910        17411\n",
      "38  2013   103342             Reese's Branch Mine      263888       115123\n",
      "39  2013   103370             Cresent Valley Mine        2860          621\n",
      "40  2013   103372                 Cane Creek Mine       66258        32401\n",
      "41  2013   103376                      Town Creek      299167       176499\n",
      "42  2013   103389                Carbon Hill Mine       76241        84966\n",
      "43  2013   103410                Coal Valley Mine      407841       158591\n",
      "44  2013   103423                Dutton Hill Mine       37275         9162\n",
      "45  2013  1519322                         Ghm #25       25054         3108\n",
      "46  2013   103321                  Poplar Springs      189370        76366\n",
      "47  2013   103358                       Old Union      284563       161805\n",
      "48  2013  5000030                        Usibelli     1631584       286079\n",
      "49  2013   201195                    Kayenta Mine     7602722      1015333\n",
      "\n",
      "[150 rows x 5 columns]\n"
     ]
    }
   ],
   "source": [
    "df1=pd.read_excel('C:\\\\Users\\\\josbin\\\\Downloads\\\\coalpublic2013.xlsx',sheet_name=0)\n",
    "df2=pd.read_excel('C:\\\\Users\\\\josbin\\\\Downloads\\\\coalpublic2013.xlsx',sheet_name=0)\n",
    "df3=pd.read_excel('C:\\\\Users\\\\josbin\\\\Downloads\\\\coalpublic2013.xlsx',sheet_name=0)\n",
    "df=pd.concat([df1,df2,df3])\n",
    "print(df)"
   ]
  },
  {
   "cell_type": "markdown",
   "metadata": {},
   "source": [
    "## -------------------------------------------------------------------------------------------------"
   ]
  },
  {
   "cell_type": "markdown",
   "metadata": {},
   "source": [
    "Q 22. Write a pandas program to import three datasheets from a given\n",
    "excel data (employee.xlsx ) into a single data frame and export the\n",
    "result into new Excel file.\n",
    " \n",
    "Note: Structure of three datasheets are same."
   ]
  },
  {
   "cell_type": "code",
   "execution_count": 27,
   "metadata": {
    "scrolled": true
   },
   "outputs": [
    {
     "name": "stdout",
     "output_type": "stream",
     "text": [
      "    emp_id   first_name    last_name  hire_date\n",
      "0      100       Steven         King 2003-06-17\n",
      "1      101        Neena      Kochhar 2005-09-21\n",
      "2      102          Lex      De Haan 2001-01-13\n",
      "3      103    Alexander       Hunold 2006-01-03\n",
      "4      104        Bruce        Ernst 2007-05-21\n",
      "5      105        David       Austin 2005-06-25\n",
      "6      106        Valli    Pataballa 2006-02-05\n",
      "7      107        Diana      Lorentz 2007-02-07\n",
      "8      108        Nancy    Greenberg 2002-08-17\n",
      "9      109       Daniel       Faviet 2002-08-16\n",
      "10     110         John         Chen 2005-09-28\n",
      "11     111       Ismael      Sciarra 2005-09-30\n",
      "12     112  Jose Manuel        Urman 2006-03-07\n",
      "13     113         Luis         Popp 2007-12-07\n",
      "14     114          Den     Raphaely 2002-12-07\n",
      "15     115    Alexander         Khoo 2003-05-18\n",
      "16     116       Shelli        Baida 2005-12-24\n",
      "17     117        Sigal       Tobias 2005-07-24\n",
      "18     118          Guy       Himuro 2006-11-15\n",
      "19     119        Karen   Colmenares 2007-08-10\n",
      "20     120      Matthew        Weiss 2004-07-18\n",
      "21     121         Adam        Fripp 2005-04-10\n",
      "22     122        Payam     Kaufling 2003-05-01\n",
      "23     123       Shanta      Vollman 2005-10-10\n",
      "24     124        Kevin      Mourgos 2007-11-16\n",
      "25     125        Julia        Nayer 2005-07-16\n",
      "26     126        Irene  Mikkilineni 2006-09-28\n",
      "27     127        James       Landry 2007-01-14\n",
      "28     128       Steven       Markle 2008-03-08\n",
      "29     129        Laura       Bissot 2005-08-20\n",
      "30     130        Mozhe     Atkinson 2005-10-30\n",
      "31     131        James       Marlow 2005-02-16\n",
      "32     132           TJ        Olson 2007-04-10\n",
      "33     133        Jason       Mallin 2004-06-14\n",
      "34     134      Michael       Rogers 2006-08-26\n",
      "35     135           Ki          Gee 2007-12-12\n",
      "36     136        Hazel   Philtanker 2008-02-06\n",
      "37     137       Renske       Ladwig 2003-07-14\n",
      "38     138      Stephen       Stiles 2005-10-26\n",
      "39     141       Trenna         Rajs 2003-10-17\n",
      "40     142       Curtis       Davies 2005-01-29\n",
      "41     143      Randall        Matos 2006-03-15\n",
      "42     144        Peter       Vargas 2006-07-09\n",
      "43     145         John      Russell 2004-10-01\n",
      "44     146        Karen     Partners 2005-01-05\n",
      "45     147      Alberto    Errazuriz 2005-03-10\n",
      "46     148       Gerald    Cambrault 2007-10-15\n",
      "47     149        Eleni      Zlotkey 2008-01-29\n",
      "\n",
      "Files in current directory\n",
      "\n",
      "Assignment -1.ipynb\n",
      "Assignment 2 - Python Function.ipynb\n",
      "Assignment 3 - Python function.ipynb\n",
      "Assignment 4 - Python Advanced.ipynb\n",
      "Assignment 5 - Pandas.ipynb\n",
      "new_employee.xlsx\n",
      "Subjective Assignment - 1- Python core.ipynb\n",
      "Subjective Assignment - 2 - Python Function and List.ipynb\n",
      "Subjective Assignment - 3 - Python Class.ipynb\n",
      "Subjective Assignment - 4 - Python Dictionaries and arrays.ipynb\n",
      "Subjective Assignment - 5 - Numpy 1.ipynb\n",
      "Subjective Assignment - 6 - Numpy 2.ipynb\n",
      "Subjective Assignment - 7 - Numpy 3.ipynb\n",
      "Subjective Assignment - 8 - Pandas 1.ipynb\n",
      "Subjective Assignment - 9 - Pandas 2.ipynb\n",
      "Assignment 2 - Python Function-checkpoint.ipynb\n",
      "Assignment 3 - Python function-checkpoint.ipynb\n",
      "Assignment 4 - Python Advanced-checkpoint.ipynb\n",
      "Assignment 5 - Pandas-checkpoint.ipynb\n",
      "Subjective Assignment - 1- Python core-checkpoint.ipynb\n",
      "Subjective Assignment - 2 - Python Function and List-checkpoint.ipynb\n",
      "Subjective Assignment - 3 - Python Class-checkpoint.ipynb\n",
      "Subjective Assignment - 4 - Python Dictionaries and arrays-checkpoint.ipynb\n",
      "Subjective Assignment - 5 - Numpy 1-checkpoint.ipynb\n",
      "Subjective Assignment - 6 - Numpy 2-checkpoint.ipynb\n",
      "Subjective Assignment - 7 - Numpy 3-checkpoint.ipynb\n",
      "Subjective Assignment - 8 - Pandas 1-checkpoint.ipynb\n",
      "Subjective Assignment - 9 - Pandas 2-checkpoint.ipynb\n",
      "Activation Functions Assignment .ipynb\n",
      "cat.jpg\n",
      "elu.png\n",
      "eq.png\n",
      "eqce.png\n",
      "eqcosh.png\n",
      "eqh.png\n",
      "eql1.png\n",
      "eql2.png\n",
      "eqph.png\n",
      "eqquantile.png\n",
      "eqsce.png\n",
      "eqsigce.png\n",
      "leakyrelu.png\n",
      "Loss Functions Assignment.ipynb\n",
      "prelu.png\n",
      "relu.png\n",
      "sigmoid.png\n",
      "softmaxeq.png\n",
      "softplus.png\n",
      "swish.png\n",
      "tanh.png\n",
      "Activation Functions Assignment -checkpoint.ipynb\n",
      "Loss Functions Assignment-checkpoint.ipynb\n"
     ]
    }
   ],
   "source": [
    "import os\n",
    "df=[]\n",
    "for i in [0,1,2]:\n",
    "    df.append(pd.read_excel('C:\\\\Users\\\\josbin\\\\Downloads\\\\employee.xlsx',sheet_name=i))\n",
    "df=pd.concat(df).reset_index(drop=True)\n",
    "print(df)\n",
    "df.to_excel('new_employee.xlsx')\n",
    "print(\"\\nFiles in current directory\\n\")\n",
    "for subdir, dirs, files in os.walk('./'):\n",
    "    for file in files:\n",
    "        print(file)"
   ]
  },
  {
   "cell_type": "markdown",
   "metadata": {},
   "source": [
    "## -------------------------------------------------------------------------------------------------"
   ]
  },
  {
   "cell_type": "markdown",
   "metadata": {},
   "source": [
    "Q23. Write a pandas program to create the Pivot table with multiple\n",
    "indexes from the data set of the titanic.csv."
   ]
  },
  {
   "cell_type": "code",
   "execution_count": 2,
   "metadata": {
    "scrolled": false
   },
   "outputs": [
    {
     "name": "stdout",
     "output_type": "stream",
     "text": [
      "   survived  pclass     sex   age  sibsp  parch     fare embarked  class  \\\n",
      "0         0       3    male  22.0      1      0   7.2500        S  Third   \n",
      "1         1       1  female  38.0      1      0  71.2833        C  First   \n",
      "2         1       3  female  26.0      0      0   7.9250        S  Third   \n",
      "3         1       1  female  35.0      1      0  53.1000        S  First   \n",
      "4         0       3    male  35.0      0      0   8.0500        S  Third   \n",
      "\n",
      "     who  adult_male deck  embark_town alive  alone  Unnamed: 15  \n",
      "0    man        True  NaN  Southampton    no  False          NaN  \n",
      "1  woman       False    C    Cherbourg   yes  False          NaN  \n",
      "2  woman       False  NaN  Southampton   yes   True          NaN  \n",
      "3  woman       False    C  Southampton   yes  False          NaN  \n",
      "4    man        True  NaN  Southampton    no   True          NaN  \n",
      "              Unnamed: 15  adult_male  alone      fare  parch  pclass  sibsp  \\\n",
      "sex    age                                                                     \n",
      "female 0.75           0.0         0.0    0.0   38.5166      2       6      4   \n",
      "       1.00           0.0         0.0    0.0   26.8750      3       6      1   \n",
      "       2.00           0.0         0.0    0.0  259.4750      9      15      9   \n",
      "       3.00           0.0         0.0    0.0   62.6542      3       5      4   \n",
      "       4.00           0.0         0.0    0.0  114.1417      6      13      4   \n",
      "       5.00           0.0         0.0    1.0   90.8708      5      11      7   \n",
      "       6.00           0.0         0.0    0.0   64.2750      3       5      4   \n",
      "       7.00           0.0         0.0    0.0   26.2500      2       2      0   \n",
      "       8.00           0.0         0.0    0.0   47.3250      3       5      3   \n",
      "       9.00           0.0         0.0    0.0  108.7958      7      12     10   \n",
      "       10.00          0.0         0.0    0.0   24.1500      2       3      0   \n",
      "       11.00          0.0         0.0    0.0   31.2750      2       3      4   \n",
      "       13.00          0.0         0.0    1.0   26.7292      1       5      0   \n",
      "       14.00          0.0         0.0    1.0  169.1667      2       9      3   \n",
      "       14.50          0.0         0.0    0.0   14.4542      0       3      1   \n",
      "       15.00          0.0         0.0    2.0  241.0459      1      10      1   \n",
      "       16.00          0.0         0.0    3.0  246.2625      4      12      5   \n",
      "       17.00          0.0         0.0    3.0  210.7833      2      12      6   \n",
      "       18.00          0.0         0.0    4.0  697.0167      9      31      6   \n",
      "       19.00          0.0         0.0    3.0  215.0959      2      13      3   \n",
      "       20.00          0.0         0.0    1.0   18.4875      0       6      1   \n",
      "       21.00          0.0         0.0    4.0  410.4333      4      16      5   \n",
      "       22.00          0.0         0.0    7.0  444.1084      6      26      3   \n",
      "       23.00          0.0         0.0    3.0  405.5417      2      10      4   \n",
      "       24.00          0.0         0.0    7.0  772.1708     15      31     10   \n",
      "       25.00          0.0         0.0    1.0  223.2500      4      11      3   \n",
      "       26.00          0.0         0.0    3.0  136.7292      1      12      2   \n",
      "       27.00          0.0         0.0    2.0   76.8916      3      15      2   \n",
      "       28.00          0.0         0.0    4.0  110.9458      1      16      3   \n",
      "       29.00          0.0         0.0    2.0  320.6208      7      16      3   \n",
      "...                   ...         ...    ...       ...    ...     ...    ...   \n",
      "male   42.00          0.0        10.0    6.0  216.1084      1      21      3   \n",
      "       43.00          0.0         3.0    2.0   40.7500      1       8      1   \n",
      "       44.00          0.0         6.0    3.0  156.1250      1      15      3   \n",
      "       45.00          0.0         6.0    5.0  187.1000      0      10      1   \n",
      "       45.50          0.0         2.0    2.0   35.7250      0       4      0   \n",
      "       46.00          0.0         3.0    2.0  166.3750      0       4      1   \n",
      "       47.00          0.0         7.0    7.0  181.3583      0      12      0   \n",
      "       48.00          0.0         5.0    3.0  176.1334      0       8      2   \n",
      "       49.00          0.0         4.0    1.0  256.9167      1       6      3   \n",
      "       50.00          0.0         5.0    2.0  317.0250      0       8      4   \n",
      "       51.00          0.0         6.0    5.0  123.3084      1      13      0   \n",
      "       52.00          0.0         4.0    3.0  136.6500      1       6      1   \n",
      "       54.00          0.0         5.0    3.0  195.1500      1       8      1   \n",
      "       55.00          0.0         1.0    1.0   30.5000      0       1      0   \n",
      "       55.50          0.0         1.0    1.0    8.0500      0       3      0   \n",
      "       56.00          0.0         3.0    3.0   92.7458      0       3      0   \n",
      "       57.00          0.0         1.0    1.0   12.3500      0       2      0   \n",
      "       58.00          0.0         2.0    1.0  142.9750      2       2      0   \n",
      "       59.00          0.0         2.0    2.0   20.7500      0       5      0   \n",
      "       60.00          0.0         3.0    1.0  144.7500      2       4      2   \n",
      "       61.00          0.0         3.0    3.0   72.0583      0       5      0   \n",
      "       62.00          0.0         3.0    3.0   63.6000      0       4      0   \n",
      "       64.00          0.0         2.0    1.0  289.0000      4       2      1   \n",
      "       65.00          0.0         3.0    2.0   96.2792      1       5      0   \n",
      "       66.00          0.0         1.0    1.0   10.5000      0       2      0   \n",
      "       70.00          0.0         2.0    1.0   81.5000      1       3      1   \n",
      "       70.50          0.0         1.0    1.0    7.7500      0       3      0   \n",
      "       71.00          0.0         2.0    2.0   84.1584      0       2      0   \n",
      "       74.00          0.0         1.0    1.0    7.7750      0       3      0   \n",
      "       80.00          0.0         1.0    1.0   30.0000      0       1      0   \n",
      "\n",
      "              survived  \n",
      "sex    age              \n",
      "female 0.75          2  \n",
      "       1.00          2  \n",
      "       2.00          2  \n",
      "       3.00          1  \n",
      "       4.00          5  \n",
      "       5.00          4  \n",
      "       6.00          1  \n",
      "       7.00          1  \n",
      "       8.00          1  \n",
      "       9.00          0  \n",
      "       10.00         0  \n",
      "       11.00         0  \n",
      "       13.00         2  \n",
      "       14.00         3  \n",
      "       14.50         0  \n",
      "       15.00         4  \n",
      "       16.00         5  \n",
      "       17.00         5  \n",
      "       18.00         8  \n",
      "       19.00         7  \n",
      "       20.00         0  \n",
      "       21.00         4  \n",
      "       22.00        10  \n",
      "       23.00         4  \n",
      "       24.00        14  \n",
      "       25.00         2  \n",
      "       26.00         3  \n",
      "       27.00         5  \n",
      "       28.00         5  \n",
      "       29.00         5  \n",
      "...                ...  \n",
      "male   42.00         3  \n",
      "       43.00         0  \n",
      "       44.00         1  \n",
      "       45.00         2  \n",
      "       45.50         0  \n",
      "       46.00         0  \n",
      "       47.00         0  \n",
      "       48.00         3  \n",
      "       49.00         2  \n",
      "       50.00         1  \n",
      "       51.00         1  \n",
      "       52.00         1  \n",
      "       54.00         0  \n",
      "       55.00         0  \n",
      "       55.50         0  \n",
      "       56.00         1  \n",
      "       57.00         0  \n",
      "       58.00         0  \n",
      "       59.00         0  \n",
      "       60.00         1  \n",
      "       61.00         0  \n",
      "       62.00         1  \n",
      "       64.00         0  \n",
      "       65.00         0  \n",
      "       66.00         0  \n",
      "       70.00         0  \n",
      "       70.50         0  \n",
      "       71.00         0  \n",
      "       74.00         0  \n",
      "       80.00         1  \n",
      "\n",
      "[145 rows x 8 columns]\n"
     ]
    }
   ],
   "source": [
    "import numpy as np\n",
    "df=pd.read_csv('C:\\\\Users\\\\josbin\\\\Downloads\\\\titanic.csv')\n",
    "print(df.head())\n",
    "ndf=pd.pivot_table(df,index=[\"sex\",\"age\"],aggfunc=np.sum)\n",
    "print(ndf)"
   ]
  },
  {
   "cell_type": "markdown",
   "metadata": {},
   "source": [
    "## -------------------------------------------------------------------------------------------------"
   ]
  },
  {
   "cell_type": "markdown",
   "metadata": {},
   "source": [
    "Q24. Write a Pandas program to create the Pivot table and find survival\n",
    "rate by gender?"
   ]
  },
  {
   "cell_type": "code",
   "execution_count": 15,
   "metadata": {
    "scrolled": true
   },
   "outputs": [
    {
     "data": {
      "text/html": [
       "<div>\n",
       "<style scoped>\n",
       "    .dataframe tbody tr th:only-of-type {\n",
       "        vertical-align: middle;\n",
       "    }\n",
       "\n",
       "    .dataframe tbody tr th {\n",
       "        vertical-align: top;\n",
       "    }\n",
       "\n",
       "    .dataframe thead th {\n",
       "        text-align: right;\n",
       "    }\n",
       "</style>\n",
       "<table border=\"1\" class=\"dataframe\">\n",
       "  <thead>\n",
       "    <tr style=\"text-align: right;\">\n",
       "      <th></th>\n",
       "      <th>survived</th>\n",
       "    </tr>\n",
       "    <tr>\n",
       "      <th>sex</th>\n",
       "      <th></th>\n",
       "    </tr>\n",
       "  </thead>\n",
       "  <tbody>\n",
       "    <tr>\n",
       "      <th>female</th>\n",
       "      <td>0.742038</td>\n",
       "    </tr>\n",
       "    <tr>\n",
       "      <th>male</th>\n",
       "      <td>0.188908</td>\n",
       "    </tr>\n",
       "  </tbody>\n",
       "</table>\n",
       "</div>"
      ],
      "text/plain": [
       "        survived\n",
       "sex             \n",
       "female  0.742038\n",
       "male    0.188908"
      ]
     },
     "execution_count": 15,
     "metadata": {},
     "output_type": "execute_result"
    }
   ],
   "source": [
    "ndf1=df.pivot_table('survived',index='sex')\n",
    "ndf1"
   ]
  },
  {
   "cell_type": "markdown",
   "metadata": {},
   "source": [
    "## -------------------------------------------------------------------------------------------------"
   ]
  },
  {
   "cell_type": "markdown",
   "metadata": {},
   "source": [
    "Q25. Write a pandas program to make partition each of the passengers\n",
    "into 4 categories based on their age.\n",
    " \n",
    "Note: Age categories- (0, 10), (10, 30), (30, 60), (60, 80)"
   ]
  },
  {
   "cell_type": "code",
   "execution_count": 3,
   "metadata": {
    "scrolled": true
   },
   "outputs": [
    {
     "name": "stdout",
     "output_type": "stream",
     "text": [
      "   survived  pclass     sex   age  sibsp  parch     fare embarked  class  \\\n",
      "0         0       3    male  22.0      1      0   7.2500        S  Third   \n",
      "1         1       1  female  38.0      1      0  71.2833        C  First   \n",
      "2         1       3  female  26.0      0      0   7.9250        S  Third   \n",
      "3         1       1  female  35.0      1      0  53.1000        S  First   \n",
      "4         0       3    male  35.0      0      0   8.0500        S  Third   \n",
      "\n",
      "     who  adult_male deck  embark_town alive  alone  Unnamed: 15 age_group  \n",
      "0    man        True  NaN  Southampton    no  False          NaN  (10, 30]  \n",
      "1  woman       False    C    Cherbourg   yes  False          NaN  (30, 60]  \n",
      "2  woman       False  NaN  Southampton   yes   True          NaN  (10, 30]  \n",
      "3  woman       False    C  Southampton   yes  False          NaN  (30, 60]  \n",
      "4    man        True  NaN  Southampton    no   True          NaN  (30, 60]  \n"
     ]
    }
   ],
   "source": [
    "ages=pd.cut(df['age'],[0,10,30,60,80])\n",
    "df['age_group']=ages\n",
    "print(df.head())"
   ]
  },
  {
   "cell_type": "markdown",
   "metadata": {},
   "source": [
    "## -------------------------------------------------------------------------------------------------"
   ]
  },
  {
   "cell_type": "markdown",
   "metadata": {},
   "source": [
    "Q26. Write a pandas program to create the Pivot table and find survival\n",
    "rate by the gender, age of the different categories of various\n",
    "classes."
   ]
  },
  {
   "cell_type": "code",
   "execution_count": 9,
   "metadata": {},
   "outputs": [
    {
     "name": "stdout",
     "output_type": "stream",
     "text": [
      "                  survived\n",
      "sex    age_group          \n",
      "female (0, 10]    0.612903\n",
      "       (10, 30]   0.748031\n",
      "       (30, 60]   0.800000\n",
      "       (60, 80]   1.000000\n",
      "male   (0, 10]    0.575758\n",
      "       (10, 30]   0.151376\n",
      "       (30, 60]   0.213115\n",
      "       (60, 80]   0.105263\n"
     ]
    }
   ],
   "source": [
    "ndf2=df.pivot_table('survived',index=['sex','age_group'])\n",
    "print(ndf2)"
   ]
  },
  {
   "cell_type": "markdown",
   "metadata": {},
   "source": [
    "## -------------------------------------------------------------------------------------------------"
   ]
  },
  {
   "cell_type": "markdown",
   "metadata": {},
   "source": [
    "Q27. Write a pandas program to create the Pivot table and calculate\n",
    "number of women and men were in a particular cabin class.\n"
   ]
  },
  {
   "cell_type": "code",
   "execution_count": 21,
   "metadata": {
    "scrolled": true
   },
   "outputs": [
    {
     "name": "stdout",
     "output_type": "stream",
     "text": [
      "       Unnamed: 15       adult_male            age          age_group  ...  \\\n",
      "pclass           1  2  3          1    2    3    1   2    3         1  ...   \n",
      "sex                                                                    ...   \n",
      "female           0  0  0         94   76  144   85  74  102        85  ...   \n",
      "male             0  0  0        122  108  347  101  99  253       101  ...   \n",
      "\n",
      "       parch sibsp           survived            who            \n",
      "pclass     3     1    2    3        1    2    3    1    2    3  \n",
      "sex                                                             \n",
      "female   144    94   76  144       94   76  144   94   76  144  \n",
      "male     347   122  108  347      122  108  347  122  108  347  \n",
      "\n",
      "[2 rows x 45 columns]\n"
     ]
    }
   ],
   "source": [
    "ndf3=df.pivot_table(index='sex',columns=['pclass'],aggfunc='count')\n",
    "print(ndf3)"
   ]
  },
  {
   "cell_type": "markdown",
   "metadata": {},
   "source": [
    "## -------------------------------------------------------------------------------------------------"
   ]
  },
  {
   "cell_type": "markdown",
   "metadata": {},
   "source": [
    "Q28. Write a pandas program to create the Pivot table and separate\n",
    "the gender according to whether they travelled alone or not to get\n",
    "the probability of survival\n"
   ]
  },
  {
   "cell_type": "code",
   "execution_count": 22,
   "metadata": {
    "scrolled": true
   },
   "outputs": [
    {
     "name": "stdout",
     "output_type": "stream",
     "text": [
      "class            First    Second     Third\n",
      "sex    alone                              \n",
      "female False  0.966667  0.931818  0.416667\n",
      "       True   0.970588  0.906250  0.616667\n",
      "male   False  0.425532  0.277778  0.180723\n",
      "       True   0.333333  0.097222  0.121212\n"
     ]
    }
   ],
   "source": [
    "ndf4=df.pivot_table('survived' ,index=['sex','alone'],columns='class')\n",
    "print(ndf4)"
   ]
  },
  {
   "cell_type": "markdown",
   "metadata": {},
   "source": [
    "## -------------------------------------------------------------------------------------------------"
   ]
  },
  {
   "cell_type": "markdown",
   "metadata": {},
   "source": [
    "Q29. Write a pandas program to create the Pivot table and find the\n",
    "probability of survival by class, gender, solo boarding, and the port\n",
    "of embarkation."
   ]
  },
  {
   "cell_type": "code",
   "execution_count": 24,
   "metadata": {
    "scrolled": true
   },
   "outputs": [
    {
     "name": "stdout",
     "output_type": "stream",
     "text": [
      "embark_town  Cherbourg                     Queenstown                   \\\n",
      "class            First    Second     Third      First Second     Third   \n",
      "sex    alone                                                             \n",
      "female False  1.000000  1.000000  0.611111        1.0    NaN  0.625000   \n",
      "       True   0.944444  1.000000  0.800000        NaN    1.0  0.760000   \n",
      "male   False  0.473684  0.166667  0.500000        0.0    NaN  0.100000   \n",
      "       True   0.347826  0.250000  0.151515        NaN    0.0  0.068966   \n",
      "\n",
      "embark_town  Southampton                      \n",
      "class              First    Second     Third  \n",
      "sex    alone                                  \n",
      "female False    0.941176  0.923077  0.327586  \n",
      "       True     1.000000  0.892857  0.466667  \n",
      "male   False    0.407407  0.300000  0.142857  \n",
      "       True     0.326923  0.089552  0.123762  \n"
     ]
    }
   ],
   "source": [
    "ndf5=df.pivot_table('survived',index=['sex','alone'],columns=['embark_town','class'])\n",
    "print(ndf5)"
   ]
  },
  {
   "cell_type": "markdown",
   "metadata": {},
   "source": [
    "## -------------------------------------------------------------------------------------------------"
   ]
  },
  {
   "cell_type": "markdown",
   "metadata": {},
   "source": [
    "Q30. Write a pandas program to get current date, oldest date and\n",
    "number of days between Current date and the oldest date of Ufo\n",
    "dataset."
   ]
  },
  {
   "cell_type": "code",
   "execution_count": 2,
   "metadata": {},
   "outputs": [],
   "source": [
    "df=pd.read_csv(\"https://raw.githubusercontent.com/justmarkham/DAT8/master/data/ufo.csv\")"
   ]
  },
  {
   "cell_type": "code",
   "execution_count": 3,
   "metadata": {
    "scrolled": true
   },
   "outputs": [
    {
     "name": "stdout",
     "output_type": "stream",
     "text": [
      "Data set\n",
      "                   City Colors Reported Shape Reported State             Time\n",
      "0                Ithaca             NaN       TRIANGLE    NY   6/1/1930 22:00\n",
      "1           Willingboro             NaN          OTHER    NJ  6/30/1930 20:00\n",
      "2               Holyoke             NaN           OVAL    CO  2/15/1931 14:00\n",
      "3               Abilene             NaN           DISK    KS   6/1/1931 13:00\n",
      "4  New York Worlds Fair             NaN          LIGHT    NY  4/18/1933 19:00\n",
      "Current date :  2014-09-05\n",
      "Oldest date :  1930-06-01\n",
      "number of days between Current date and the oldest date :  30777\n"
     ]
    }
   ],
   "source": [
    "print(\"Data set\")\n",
    "print(df.head())\n",
    "df.Time=pd.to_datetime(df.Time)\n",
    "df.Time.dtype\n",
    "cd=df.Time.max().date()\n",
    "od=df.Time.min().date()\n",
    "print(\"Current date : \",cd)\n",
    "print(\"Oldest date : \",od)\n",
    "print(\"number of days between Current date and the oldest date : \",(cd-od).days)"
   ]
  },
  {
   "cell_type": "markdown",
   "metadata": {},
   "source": [
    "## -------------------------------------------------------------------------------------------------"
   ]
  },
  {
   "cell_type": "markdown",
   "metadata": {},
   "source": [
    "Q31. Write a pandas program to get all sighting days of the\n",
    "unidentified flying object (ufo) between 1950-10-10 and 1960-10-\n",
    "10."
   ]
  },
  {
   "cell_type": "code",
   "execution_count": 52,
   "metadata": {
    "scrolled": false
   },
   "outputs": [
    {
     "name": "stdout",
     "output_type": "stream",
     "text": [
      "All sighting days of the unidentified flying object between 1950-10-10 and 1960-10-10\n",
      "                      City Colors Reported Shape Reported State  \\\n",
      "147             Sandy Hook             NaN       TRIANGLE    NJ   \n",
      "148          Half Moon Bay             NaN          OTHER    CA   \n",
      "149           Palm Springs             NaN          CIGAR    CA   \n",
      "150          Thompsonville             NaN           DISK    CT   \n",
      "151            Los Angeles             NaN           DISK    CA   \n",
      "152                 Irving            BLUE           DISK    KS   \n",
      "153              Fort Sill             NaN           OVAL    OK   \n",
      "154               Oklahoma             NaN          CIGAR    OK   \n",
      "155                 Jasper             NaN           OVAL    NC   \n",
      "156            Mount Pinos             NaN           DISK    CA   \n",
      "157             Greenville           GREEN           DISK    MS   \n",
      "158        Jackson Heights             NaN           DISK    NY   \n",
      "159             Birmingham             NaN            NaN    AL   \n",
      "160          Otis Orchards             NaN           DISK    WA   \n",
      "161                Atlanta             NaN            NaN    GA   \n",
      "162       Calaveras County             NaN           DISK    CA   \n",
      "163            Green River           GREEN         SPHERE    WY   \n",
      "164                  Provo            BLUE           DISK    UT   \n",
      "165         Spokane Valley             NaN         SPHERE    WA   \n",
      "166                Sunland             NaN         CIRCLE    CA   \n",
      "167                Altoona             NaN           DISK    PA   \n",
      "168           Jacksonville             NaN           DISK    FL   \n",
      "169           Holloman AFB             NaN         CIRCLE    NM   \n",
      "170         Salt Lake City             NaN            NaN    UT   \n",
      "171             Binghamton             NaN           DISK    NY   \n",
      "172             Nellis AFB             NaN           DISK    NV   \n",
      "173                Chicago             NaN           DISK    IL   \n",
      "174             Greenville          ORANGE       TRIANGLE    TX   \n",
      "175             Pittsburgh             NaN       CYLINDER    PA   \n",
      "176                  Allyn             NaN           DISK    WA   \n",
      "..                     ...             ...            ...   ...   \n",
      "613                    NaN             NaN           DISK    NV   \n",
      "614                Stevens             NaN          OTHER    MN   \n",
      "615               Portland             NaN            NaN    OR   \n",
      "616             New Berlin             NaN         CIRCLE    WI   \n",
      "617             Springdale             NaN      FORMATION    AR   \n",
      "618               La Verne   ORANGE YELLOW         CIRCLE    CA   \n",
      "619  Pacific Coast Highway             NaN            NaN    CA   \n",
      "620              Goldsboro             NaN         SPHERE    NC   \n",
      "621               Amarillo             NaN        DIAMOND    TX   \n",
      "622                 Upland             NaN         CIRCLE    CA   \n",
      "623              Allentown             NaN       CYLINDER    PA   \n",
      "624              Taftville             NaN           DISK    CT   \n",
      "625                 Boston             NaN           DISK    MA   \n",
      "626               Carteret             NaN          CIGAR    NJ   \n",
      "627                Crystal             NaN         CIRCLE    WI   \n",
      "628               Cherokee             NaN       FIREBALL    NC   \n",
      "629                Belmont             NaN         CIRCLE    NY   \n",
      "630               Watchung             RED          CIGAR    NJ   \n",
      "631             Cottonwood             NaN            NaN    WA   \n",
      "632                 Saugus             NaN         CIRCLE    MA   \n",
      "633             Framingham             NaN           OVAL    MA   \n",
      "634             Long Beach             NaN          OTHER    CA   \n",
      "635             Pittsburgh             NaN         SPHERE    PA   \n",
      "636              Dickinson             NaN         CIRCLE    ND   \n",
      "637                Buffalo             NaN           OVAL    NY   \n",
      "638                Wichita             NaN           OVAL    KS   \n",
      "639              Kingsport          ORANGE         CIRCLE    TN   \n",
      "640                Seattle             NaN           DISK    WA   \n",
      "641             Susanville             NaN            NaN    CA   \n",
      "642                Kaneohe             NaN          LIGHT    HI   \n",
      "\n",
      "                   Time  \n",
      "147 1950-10-15 15:00:00  \n",
      "148 1950-12-12 22:00:00  \n",
      "149 1951-01-20 04:30:00  \n",
      "150 1951-02-03 22:00:00  \n",
      "151 1951-02-15 11:00:00  \n",
      "152 1951-04-15 00:30:00  \n",
      "153 1951-05-15 03:00:00  \n",
      "154 1951-06-01 19:00:00  \n",
      "155 1951-06-03 13:00:00  \n",
      "156 1951-06-06 02:00:00  \n",
      "157 1951-06-15 20:30:00  \n",
      "158 1951-06-30 07:00:00  \n",
      "159 1951-06-30 19:00:00  \n",
      "160 1951-07-01 03:00:00  \n",
      "161 1951-07-01 14:00:00  \n",
      "162 1951-07-03 03:00:00  \n",
      "163 1951-07-03 12:00:00  \n",
      "164 1951-07-10 23:30:00  \n",
      "165 1951-07-15 14:00:00  \n",
      "166 1951-08-10 01:00:00  \n",
      "167 1951-08-15 13:00:00  \n",
      "168 1951-10-15 20:00:00  \n",
      "169 1951-11-15 06:00:00  \n",
      "170 1952-01-01 00:00:00  \n",
      "171 1952-02-10 21:00:00  \n",
      "172 1952-02-17 18:00:00  \n",
      "173 1952-04-15 13:00:00  \n",
      "174 1952-04-15 16:00:00  \n",
      "175 1952-05-15 10:15:00  \n",
      "176 1952-05-15 20:00:00  \n",
      "..                  ...  \n",
      "613 1960-07-01 12:00:00  \n",
      "614 1960-07-01 12:00:00  \n",
      "615 1960-07-01 20:00:00  \n",
      "616 1960-07-04 21:30:00  \n",
      "617 1960-07-07 22:00:00  \n",
      "618 1960-07-15 01:00:00  \n",
      "619 1960-07-15 10:00:00  \n",
      "620 1960-07-15 16:00:00  \n",
      "621 1960-07-15 21:00:00  \n",
      "622 1960-07-30 21:00:00  \n",
      "623 1960-08-01 12:00:00  \n",
      "624 1960-08-01 15:00:00  \n",
      "625 1960-08-01 18:00:00  \n",
      "626 1960-08-01 18:00:00  \n",
      "627 1960-08-01 23:00:00  \n",
      "628 1960-08-02 23:00:00  \n",
      "629 1960-08-10 01:00:00  \n",
      "630 1960-08-10 18:00:00  \n",
      "631 1960-08-13 19:00:00  \n",
      "632 1960-08-15 15:00:00  \n",
      "633 1960-08-15 16:00:00  \n",
      "634 1960-08-17 21:10:00  \n",
      "635 1960-08-20 21:30:00  \n",
      "636 1960-08-28 21:00:00  \n",
      "637 1960-09-05 21:00:00  \n",
      "638 1960-09-10 10:00:00  \n",
      "639 1960-09-15 19:00:00  \n",
      "640 1960-09-15 20:30:00  \n",
      "641 1960-09-15 21:00:00  \n",
      "642 1960-10-10 20:00:00  \n",
      "\n",
      "[496 rows x 5 columns]\n"
     ]
    }
   ],
   "source": [
    "print(\"All sighting days of the unidentified flying object between 1950-10-10 and 1960-10-10\")\n",
    "op=df[(df.Time>'1950-10-10 00:00:00')&(df.Time<'1960-10-10 23:59:59')]\n",
    "print(op)"
   ]
  },
  {
   "cell_type": "markdown",
   "metadata": {},
   "source": [
    "## -------------------------------------------------------------------------------------------------"
   ]
  },
  {
   "cell_type": "markdown",
   "metadata": {},
   "source": [
    "Q32. Write a Pandas program to extract the year, month, day, hour,\n",
    "minute, second, and weekday from unidentified flying object (UFO)\n",
    "reporting date."
   ]
  },
  {
   "cell_type": "code",
   "execution_count": 66,
   "metadata": {
    "scrolled": false
   },
   "outputs": [
    {
     "name": "stdout",
     "output_type": "stream",
     "text": [
      "Random 10 entries\n",
      "\n",
      "              City Colors Reported Shape Reported State                Time\n",
      "38620      Arcadia             NaN            NaN    NY 2006-12-24 19:30:00\n",
      "40991      Hancock             NaN          CIGAR    ME 2007-08-10 12:00:00\n",
      "74302  Springfield             NaN       TRIANGLE    VA 2013-11-25 18:00:00\n",
      "25385    Rochester             NaN         CIRCLE    NY 2003-07-06 23:11:00\n",
      "11719    Flagstaff      RED YELLOW         SPHERE    AZ 1998-06-25 10:23:00\n",
      "63801     Show Low             NaN          LIGHT    AZ 2012-06-27 23:00:00\n",
      "19956      Burbank             NaN       FIREBALL    CA 2001-08-06 20:30:00\n",
      "34217      Phoenix             NaN           OVAL    AZ 2005-10-01 15:00:00\n",
      "33489    Dickinson             NaN          CIGAR    TX 2005-08-06 05:49:00\n",
      "31852       Casper             NaN          LIGHT    WY 2005-02-23 14:00:00 \n",
      "\n",
      "\n",
      "Years from the above entries : \n",
      "\n",
      "38620    2006\n",
      "40991    2007\n",
      "74302    2013\n",
      "25385    2003\n",
      "11719    1998\n",
      "63801    2012\n",
      "19956    2001\n",
      "34217    2005\n",
      "33489    2005\n",
      "31852    2005\n",
      "Name: Time, dtype: int64\n",
      "\n",
      "Months from the above entries : \n",
      "\n",
      "38620    12\n",
      "40991     8\n",
      "74302    11\n",
      "25385     7\n",
      "11719     6\n",
      "63801     6\n",
      "19956     8\n",
      "34217    10\n",
      "33489     8\n",
      "31852     2\n",
      "Name: Time, dtype: int64\n",
      "\n",
      "Days from the above entries : \n",
      "\n",
      "38620    24\n",
      "40991    10\n",
      "74302    25\n",
      "25385     6\n",
      "11719    25\n",
      "63801    27\n",
      "19956     6\n",
      "34217     1\n",
      "33489     6\n",
      "31852    23\n",
      "Name: Time, dtype: int64\n",
      "\n",
      "Hours from the above entries : \n",
      "\n",
      "38620    19\n",
      "40991    12\n",
      "74302    18\n",
      "25385    23\n",
      "11719    10\n",
      "63801    23\n",
      "19956    20\n",
      "34217    15\n",
      "33489     5\n",
      "31852    14\n",
      "Name: Time, dtype: int64\n",
      "\n",
      "Minutes from the above entries : \n",
      "\n",
      "38620    30\n",
      "40991     0\n",
      "74302     0\n",
      "25385    11\n",
      "11719    23\n",
      "63801     0\n",
      "19956    30\n",
      "34217     0\n",
      "33489    49\n",
      "31852     0\n",
      "Name: Time, dtype: int64\n",
      "\n",
      "Seconds from the above entries : \n",
      "\n",
      "38620    0\n",
      "40991    0\n",
      "74302    0\n",
      "25385    0\n",
      "11719    0\n",
      "63801    0\n",
      "19956    0\n",
      "34217    0\n",
      "33489    0\n",
      "31852    0\n",
      "Name: Time, dtype: int64\n",
      "\n",
      "Weakdays from the above entries : \n",
      "\n",
      "38620       Sunday\n",
      "40991       Friday\n",
      "74302       Monday\n",
      "25385       Sunday\n",
      "11719     Thursday\n",
      "63801    Wednesday\n",
      "19956       Monday\n",
      "34217     Saturday\n",
      "33489     Saturday\n",
      "31852    Wednesday\n",
      "Name: Time, dtype: object\n"
     ]
    }
   ],
   "source": [
    "l=df.sample(10)\n",
    "print(\"Random 10 entries\\n\")\n",
    "print(l,\"\\n\")\n",
    "l=l.Time\n",
    "print(\"\\nYears from the above entries : \\n\")\n",
    "print(l.dt.year)\n",
    "print(\"\\nMonths from the above entries : \\n\")\n",
    "print(l.dt.month)\n",
    "print(\"\\nDays from the above entries : \\n\")\n",
    "print(l.dt.day)\n",
    "print(\"\\nHours from the above entries : \\n\")\n",
    "print(l.dt.hour)\n",
    "print(\"\\nMinutes from the above entries : \\n\")\n",
    "print(l.dt.minute)\n",
    "print(\"\\nSeconds from the above entries : \\n\")\n",
    "print(l.dt.second)\n",
    "print(\"\\nWeakdays from the above entries : \\n\")\n",
    "print(l.dt.weekday_name)"
   ]
  },
  {
   "cell_type": "markdown",
   "metadata": {},
   "source": [
    "## -------------------------------------------------------------------------------------------------"
   ]
  },
  {
   "cell_type": "markdown",
   "metadata": {},
   "source": [
    "Q33. Write a pandas program to count year-country wise frequency of\n",
    "reporting dates of the unidentified flying object(UFO).\n"
   ]
  },
  {
   "cell_type": "code",
   "execution_count": 72,
   "metadata": {
    "scrolled": true
   },
   "outputs": [
    {
     "name": "stdout",
     "output_type": "stream",
     "text": [
      "DataFrame\n",
      "                   City Colors Reported Shape Reported State  \\\n",
      "0                Ithaca             NaN       TRIANGLE    NY   \n",
      "1           Willingboro             NaN          OTHER    NJ   \n",
      "2               Holyoke             NaN           OVAL    CO   \n",
      "3               Abilene             NaN           DISK    KS   \n",
      "4  New York Worlds Fair             NaN          LIGHT    NY   \n",
      "\n",
      "                 Time  \n",
      "0 1930-06-01 22:00:00  \n",
      "1 1930-06-30 20:00:00  \n",
      "2 1931-02-15 14:00:00  \n",
      "3 1931-06-01 13:00:00  \n",
      "4 1933-04-18 19:00:00  \n",
      "\n",
      "year-country wise frequency\n",
      "\n",
      "Time  State\n",
      "1930  NJ         1\n",
      "      NY         1\n",
      "1931  CO         1\n",
      "      KS         1\n",
      "1933  NY         1\n",
      "1934  ND         1\n",
      "1935  CA         1\n",
      "1936  AK         1\n",
      "      MI         1\n",
      "1937  CA         1\n",
      "      OR         1\n",
      "1939  AL         1\n",
      "      IA         1\n",
      "      SC         1\n",
      "1941  CA         1\n",
      "      MI         1\n",
      "1942  CA         1\n",
      "      GA         1\n",
      "      TN         1\n",
      "1943  AK         1\n",
      "      KY         1\n",
      "      LA         2\n",
      "      NE         1\n",
      "1944  CA         1\n",
      "      FL         1\n",
      "      NM         2\n",
      "      RI         1\n",
      "      UT         1\n",
      "      WV         2\n",
      "1945  CA         2\n",
      "              ... \n",
      "2014  ME        33\n",
      "      MI       124\n",
      "      MN        64\n",
      "      MO       105\n",
      "      MS        27\n",
      "      MT        45\n",
      "      NC       205\n",
      "      ND         5\n",
      "      NE        14\n",
      "      NH        60\n",
      "      NJ       114\n",
      "      NM        58\n",
      "      NV        64\n",
      "      NY       210\n",
      "      OH       198\n",
      "      OK        55\n",
      "      OR       149\n",
      "      PA       270\n",
      "      RI        23\n",
      "      SC       180\n",
      "      SD        18\n",
      "      TN        95\n",
      "      TX       198\n",
      "      UT        52\n",
      "      VA       123\n",
      "      VT        25\n",
      "      WA       246\n",
      "      WI        90\n",
      "      WV        40\n",
      "      WY        14\n",
      "Length: 2762, dtype: int64\n"
     ]
    }
   ],
   "source": [
    "print(\"DataFrame\")\n",
    "print(df.head())\n",
    "dft=df.groupby([df.Time.dt.year,'State']).size()\n",
    "print(\"\\nyear-country wise frequency\\n\")\n",
    "print(dft)"
   ]
  },
  {
   "cell_type": "markdown",
   "metadata": {},
   "source": [
    "## -------------------------------------------------------------------------------------------------"
   ]
  },
  {
   "cell_type": "markdown",
   "metadata": {},
   "source": [
    "Q34. Write a pandas program to get the difference (in days) between\n",
    "documented date and reporting date of unidentified flying object\n",
    "(UFO)."
   ]
  },
  {
   "cell_type": "markdown",
   "metadata": {},
   "source": [
    "#### documented date and reporting date not given"
   ]
  },
  {
   "cell_type": "markdown",
   "metadata": {},
   "source": [
    "## -------------------------------------------------------------------------------------------------"
   ]
  },
  {
   "cell_type": "markdown",
   "metadata": {},
   "source": [
    "Q35. Write a pandas program to generate sequences of fixedfrequency dates and time spans."
   ]
  },
  {
   "cell_type": "code",
   "execution_count": 74,
   "metadata": {
    "scrolled": true
   },
   "outputs": [
    {
     "name": "stdout",
     "output_type": "stream",
     "text": [
      "Monthly frequency:\n",
      "DatetimeIndex(['2020-01-31', '2020-02-29', '2020-03-31', '2020-04-30',\n",
      "               '2020-05-31', '2020-06-30', '2020-07-31', '2020-08-31',\n",
      "               '2020-09-30', '2020-10-31', '2020-11-30', '2020-12-31'],\n",
      "              dtype='datetime64[ns]', freq='M')\n",
      "\n",
      "Hourly frequency:\n",
      "DatetimeIndex(['2020-01-01 00:00:00', '2020-01-01 01:00:00',\n",
      "               '2020-01-01 02:00:00', '2020-01-01 03:00:00',\n",
      "               '2020-01-01 04:00:00', '2020-01-01 05:00:00',\n",
      "               '2020-01-01 06:00:00', '2020-01-01 07:00:00',\n",
      "               '2020-01-01 08:00:00', '2020-01-01 09:00:00',\n",
      "               '2020-01-01 10:00:00', '2020-01-01 11:00:00',\n",
      "               '2020-01-01 12:00:00', '2020-01-01 13:00:00',\n",
      "               '2020-01-01 14:00:00', '2020-01-01 15:00:00',\n",
      "               '2020-01-01 16:00:00', '2020-01-01 17:00:00',\n",
      "               '2020-01-01 18:00:00', '2020-01-01 19:00:00',\n",
      "               '2020-01-01 20:00:00', '2020-01-01 21:00:00',\n",
      "               '2020-01-01 22:00:00', '2020-01-01 23:00:00'],\n",
      "              dtype='datetime64[ns]', freq='H')\n"
     ]
    }
   ],
   "source": [
    "mfr=pd.date_range('2020-01-01',periods=12,freq='M')\n",
    "print(\"Monthly frequency:\")\n",
    "print(mfr)\n",
    "hfr = pd.date_range('2020-01-01',periods=24,freq='H')\n",
    "print(\"\\nHourly frequency:\")\n",
    "print(hfr)"
   ]
  },
  {
   "cell_type": "markdown",
   "metadata": {},
   "source": [
    "## -------------------------------------------------------------------------------------------------"
   ]
  },
  {
   "cell_type": "markdown",
   "metadata": {},
   "source": [
    "Q36. Write a pandas program to manipulate and convert date times\n",
    "with timezone information."
   ]
  },
  {
   "cell_type": "code",
   "execution_count": 81,
   "metadata": {
    "scrolled": true
   },
   "outputs": [
    {
     "name": "stdout",
     "output_type": "stream",
     "text": [
      "DatetimeIndex(['2020-05-08 00:00:00+00:00', '2020-05-08 01:00:00+00:00',\n",
      "               '2020-05-08 02:00:00+00:00', '2020-05-08 03:00:00+00:00',\n",
      "               '2020-05-08 04:00:00+00:00', '2020-05-08 05:00:00+00:00',\n",
      "               '2020-05-08 06:00:00+00:00', '2020-05-08 07:00:00+00:00',\n",
      "               '2020-05-08 08:00:00+00:00', '2020-05-08 09:00:00+00:00',\n",
      "               '2020-05-08 10:00:00+00:00', '2020-05-08 11:00:00+00:00',\n",
      "               '2020-05-08 12:00:00+00:00', '2020-05-08 13:00:00+00:00',\n",
      "               '2020-05-08 14:00:00+00:00', '2020-05-08 15:00:00+00:00',\n",
      "               '2020-05-08 16:00:00+00:00', '2020-05-08 17:00:00+00:00',\n",
      "               '2020-05-08 18:00:00+00:00', '2020-05-08 19:00:00+00:00',\n",
      "               '2020-05-08 20:00:00+00:00', '2020-05-08 21:00:00+00:00',\n",
      "               '2020-05-08 22:00:00+00:00', '2020-05-08 23:00:00+00:00'],\n",
      "              dtype='datetime64[ns, UTC]', freq='H')\n",
      "\n",
      "From UTC to India\n",
      "DatetimeIndex(['2020-05-08 05:30:00+05:30', '2020-05-08 06:30:00+05:30',\n",
      "               '2020-05-08 07:30:00+05:30', '2020-05-08 08:30:00+05:30',\n",
      "               '2020-05-08 09:30:00+05:30', '2020-05-08 10:30:00+05:30',\n",
      "               '2020-05-08 11:30:00+05:30', '2020-05-08 12:30:00+05:30',\n",
      "               '2020-05-08 13:30:00+05:30', '2020-05-08 14:30:00+05:30',\n",
      "               '2020-05-08 15:30:00+05:30', '2020-05-08 16:30:00+05:30',\n",
      "               '2020-05-08 17:30:00+05:30', '2020-05-08 18:30:00+05:30',\n",
      "               '2020-05-08 19:30:00+05:30', '2020-05-08 20:30:00+05:30',\n",
      "               '2020-05-08 21:30:00+05:30', '2020-05-08 22:30:00+05:30',\n",
      "               '2020-05-08 23:30:00+05:30', '2020-05-09 00:30:00+05:30',\n",
      "               '2020-05-09 01:30:00+05:30', '2020-05-09 02:30:00+05:30',\n",
      "               '2020-05-09 03:30:00+05:30', '2020-05-09 04:30:00+05:30'],\n",
      "              dtype='datetime64[ns, Asia/Kolkata]', freq='H')\n"
     ]
    }
   ],
   "source": [
    "import pandas as pd\n",
    "dt=pd.date_range('2020-05-08',periods=24,freq='H')\n",
    "dt=dt.tz_localize('UTC')\n",
    "print(dt)\n",
    "print(\"\\nFrom UTC to India\")\n",
    "dt=dt.tz_convert('Asia/Kolkata')\n",
    "print(dt)\n"
   ]
  },
  {
   "cell_type": "markdown",
   "metadata": {},
   "source": [
    "## -------------------------------------------------------------------------------------------------"
   ]
  },
  {
   "cell_type": "markdown",
   "metadata": {},
   "source": [
    "Q37. Write a pandas program to create the graphical analysis of UFO\n",
    "(unidentified flying object) Sightings year."
   ]
  },
  {
   "cell_type": "code",
   "execution_count": 83,
   "metadata": {
    "scrolled": true
   },
   "outputs": [
    {
     "data": {
      "image/png": "[encoded data removed]",
      "text/plain": [
       "<Figure size 1080x576 with 1 Axes>"
      ]
     },
     "metadata": {
      "needs_background": "light"
     },
     "output_type": "display_data"
    }
   ],
   "source": [
    "%matplotlib inline\n",
    "import matplotlib.pyplot as plt\n",
    "import seaborn as sns\n",
    "df[\"year\"] = df.Time.dt.year\n",
    "years= df.year.value_counts()\n",
    "years_index = years.index  \n",
    "years_values = years.get_values()\n",
    "plt.figure(figsize=(15,8))\n",
    "plt.xticks(rotation = 60)\n",
    "plt.title('UFO Sightings Year')\n",
    "plt.xlabel(\"Year\")\n",
    "plt.ylabel(\"Number of reports\")\n",
    "years_plot = sns.barplot(x=years_index[:60],y=years_values[:60], palette = \"Reds\")\n"
   ]
  },
  {
   "cell_type": "markdown",
   "metadata": {},
   "source": [
    "## -------------------------------------------------------------------------------------------------"
   ]
  },
  {
   "cell_type": "markdown",
   "metadata": {},
   "source": [
    "Q38. Write a pandas program to create a comparison of the top 10\n",
    "years in which the (UFO) was sighted VS each Month."
   ]
  },
  {
   "cell_type": "code",
   "execution_count": 28,
   "metadata": {
    "scrolled": true
   },
   "outputs": [
    {
     "name": "stdout",
     "output_type": "stream",
     "text": [
      "Time       1      2      3      4      5      6       7      8      9      10  \\\n",
      "Time                                                                            \n",
      "2004.0  248.0  239.0  319.0  308.0  305.0  344.0   356.0  463.0  341.0  395.0   \n",
      "2005.0  219.0  238.0  291.0  265.0  244.0  347.0   374.0  276.0  469.0  442.0   \n",
      "2007.0  384.0  225.0  314.0  264.0  261.0  361.0   404.0  403.0  390.0  392.0   \n",
      "2008.0  412.0  329.0  318.0  409.0  291.0  424.0   484.0  446.0  335.0  495.0   \n",
      "2009.0  426.0  344.0  290.0  266.0  293.0  340.0   531.0  416.0  533.0  285.0   \n",
      "2010.0  237.0  158.0  232.0  246.0  291.0  319.0   767.0  465.0  407.0  436.0   \n",
      "2011.0  290.0  251.0  295.0  284.0  281.0  360.0   714.0  589.0  514.0  601.0   \n",
      "2012.0  530.0  359.0  491.0  462.0  456.0  691.0   852.0  814.0  671.0  610.0   \n",
      "2013.0  354.0  258.0  356.0  383.0  485.0  558.0   906.0  806.0  727.0  721.0   \n",
      "2014.0  651.0  505.0  450.0  591.0  593.0  709.0  1006.0  779.0   97.0    NaN   \n",
      "\n",
      "Time       11     12  \n",
      "Time                  \n",
      "2004.0  273.0  257.0  \n",
      "2005.0  397.0  224.0  \n",
      "2007.0  342.0  318.0  \n",
      "2008.0  409.0  300.0  \n",
      "2009.0  283.0  243.0  \n",
      "2010.0  331.0  265.0  \n",
      "2011.0  412.0  496.0  \n",
      "2012.0  720.0  607.0  \n",
      "2013.0  751.0  696.0  \n",
      "2014.0    NaN    NaN  \n"
     ]
    }
   ],
   "source": [
    "top_yrs=df.Time.dt.year.value_counts().head(10)\n",
    "def is_top_years(year):\n",
    "    if year in top_yrs:\n",
    "        #print(year)\n",
    "        return year\n",
    "my=df.pivot_table(columns=df.Time.dt.month,index=df.Time.dt.year.apply(is_top_years),\n",
    "                  aggfunc='count',values='City')\n",
    "print(my)"
   ]
  },
  {
   "cell_type": "markdown",
   "metadata": {},
   "source": [
    "## -------------------------------------------------------------------------------------------------"
   ]
  },
  {
   "cell_type": "markdown",
   "metadata": {},
   "source": [
    "Q39. Write a pandas program to create a heatmap (rectangular data as\n",
    "a colour-encoded matrix) for comparison of top 10 years in\n",
    "which (UFO ) was sighted VS each Month."
   ]
  },
  {
   "cell_type": "code",
   "execution_count": 44,
   "metadata": {},
   "outputs": [
    {
     "name": "stdout",
     "output_type": "stream",
     "text": [
      "\n",
      "Heatmap for comparison of top 10 years in which (UFO ) was sighted VS each Month\n"
     ]
    },
    {
     "data": {
      "image/png": "[encoded data removed]",
      "text/plain": [
       "<Figure size 720x576 with 2 Axes>"
      ]
     },
     "metadata": {
      "needs_background": "light"
     },
     "output_type": "display_data"
    }
   ],
   "source": [
    "%matplotlib inline\n",
    "import matplotlib.pyplot as plt\n",
    "import seaborn as sns\n",
    "top_yrs=df.Time.dt.year.value_counts().head(10)\n",
    "def is_top_years(year):\n",
    "    if year in top_yrs:\n",
    "        return year\n",
    "my=df.pivot_table(columns=df.Time.dt.month,index=df.Time.dt.year.apply(is_top_years),\n",
    "                  aggfunc='count',values='City')\n",
    "my=my.fillna(0)\n",
    "my=my.astype('int32')\n",
    "print(\"\\nHeatmap for comparison of top 10 years in which (UFO ) was sighted VS each Month\")\n",
    "plt.figure(figsize=(10,8))\n",
    "ax=sns.heatmap(my)\n",
    "ax.set_xlabel('Month').set_size(20)\n",
    "ax.set_ylabel('Year').set_size(20)"
   ]
  },
  {
   "cell_type": "markdown",
   "metadata": {},
   "source": [
    "## -------------------------------------------------------------------------------------------------"
   ]
  },
  {
   "cell_type": "markdown",
   "metadata": {},
   "source": [
    "Q40. Write a pandas program to create a Timewheel of Hour VS Year\n",
    "comparison of the top 10 years in which the (UFO) was sighted"
   ]
  },
  {
   "cell_type": "code",
   "execution_count": 101,
   "metadata": {
    "scrolled": true
   },
   "outputs": [
    {
     "data": {
      "image/png": "[encoded data removed]",
      "text/plain": [
       "<Figure size 576x576 with 1 Axes>"
      ]
     },
     "metadata": {},
     "output_type": "display_data"
    }
   ],
   "source": [
    "%matplotlib inline\n",
    "import matplotlib.pyplot as plt\n",
    "import seaborn as sns\n",
    "import matplotlib as mpl\n",
    "import matplotlib.cm as cm\n",
    "\n",
    "def pie_heatmap(table,cmap='coolwarm_r',vmin=None,vmax=None,inner_r=0.25,pie_args={}):\n",
    "    n,m=my.shape\n",
    "    vmin=my.min().min() if vmin is None else vmin\n",
    "    vmax=my.max().max() if vmax is None else vmax\n",
    "\n",
    "    centre_circle=plt.Circle((0,0),inner_r,edgecolor='black',facecolor='white',\n",
    "                               fill=True,linewidth=0.25)\n",
    "    plt.gcf().gca().add_artist(centre_circle)\n",
    "    norm=mpl.colors.Normalize(vmin=vmin,vmax=vmax)\n",
    "    cmapper=cm.ScalarMappable(norm=norm,cmap=cmap)\n",
    "\n",
    "    for i,(row_name,row) in enumerate(my.iterrows()):\n",
    "        labels=None if i > 0 else my.columns\n",
    "        wedges=plt.pie([1] * m,radius=inner_r+float(n-i)/n, \n",
    "                         colors=[cmapper.to_rgba(x) for x in row.values],\n",
    "                         labels=labels, startangle=90, counterclock=False, \n",
    "                         wedgeprops={'linewidth':-1}, **pie_args)\n",
    "        plt.setp(wedges[0], edgecolor='grey',linewidth=1.5)\n",
    "        wedges = plt.pie([1], radius=inner_r+float(n-i-1)/n, colors=['w'], labels=[row_name], \n",
    "                         startangle=-90, wedgeprops={'linewidth':0})\n",
    "        plt.setp(wedges[0], edgecolor='grey',linewidth=1.5)\n",
    "\n",
    "def is_top_years(year):\n",
    "    if year in top_yrs:\n",
    "        return year\n",
    "    \n",
    "top_yrs=df.Time.dt.year.value_counts().head(10)\n",
    "my=df.pivot_table(columns=df.Time.dt.hour,index=df.Time.dt.year.apply(is_top_years),\n",
    "                  aggfunc='count',values='City')\n",
    "my=my.fillna(0)\n",
    "my=my.astype(int)\n",
    "my.index = my.index.astype(int)\n",
    "plt.figure(figsize=(8,8))\n",
    "plt.title(\"Timewheel of Hour VS Year\",y=1.08,fontsize=30)\n",
    "pie_heatmap(month_vs_year, vmin=-20,vmax=80,inner_r=0.2)\n",
    "\n",
    "# Code for time-wheel from \n",
    "# https://stackoverflow.com/questions/40352607/time-wheel-in-python3-pandas"
   ]
  },
  {
   "cell_type": "markdown",
   "metadata": {},
   "source": [
    "## -------------------------------------------------------------------------------------------------"
   ]
  }
 ],
 "metadata": {
  "kernelspec": {
   "display_name": "Python 3",
   "language": "python",
   "name": "python3"
  },
  "language_info": {
   "codemirror_mode": {
    "name": "ipython",
    "version": 3
   },
   "file_extension": ".py",
   "mimetype": "text/x-python",
   "name": "python",
   "nbconvert_exporter": "python",
   "pygments_lexer": "ipython3",
   "version": "3.7.3"
  }
 },
 "nbformat": 4,
 "nbformat_minor": 2
}
