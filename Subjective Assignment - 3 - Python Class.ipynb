{
 "cells": [
  {
   "cell_type": "markdown",
   "metadata": {},
   "source": [
    "# Assignment"
   ]
  },
  {
   "cell_type": "markdown",
   "metadata": {},
   "source": [
    "Q1. Write the Python class to convert an integer to a roman numeral?"
   ]
  },
  {
   "cell_type": "code",
   "execution_count": 56,
   "metadata": {},
   "outputs": [
    {
     "name": "stdout",
     "output_type": "stream",
     "text": [
      "1 --> I\n",
      "1000 --> M\n",
      "11 --> XI\n"
     ]
    }
   ],
   "source": [
    "class Integer:\n",
    "    def int_to_rom(self,number):\n",
    "        numb=number\n",
    "        integers = [1000, 900, 500, 400,100, 90, 50, 40,10, 9, 5, 4,1]\n",
    "        romans= [\"M\", \"CM\", \"D\", \"CD\",\"C\", \"XC\", \"L\", \"XL\",\"X\", \"IX\", \"V\", \"IV\",\"I\"]\n",
    "        num = ''\n",
    "        i = 0\n",
    "        while  number > 0:\n",
    "            k=integers[i]\n",
    "            for j in range(number//k):\n",
    "                num+=romans[i]\n",
    "                number-= k\n",
    "            i+=1\n",
    "        print(f\"{numb} --> {num}\")\n",
    "\n",
    "i=Integer()\n",
    "i.int_to_rom(1)\n",
    "i.int_to_rom(1000)\n",
    "i.int_to_rom(11)"
   ]
  },
  {
   "cell_type": "markdown",
   "metadata": {},
   "source": [
    "## -------------------------------------------------------------------------------------------------"
   ]
  },
  {
   "cell_type": "markdown",
   "metadata": {},
   "source": [
    "Q2 Write the Python class to convert a Roman numeral to an integer?\n"
   ]
  },
  {
   "cell_type": "code",
   "execution_count": 58,
   "metadata": {},
   "outputs": [
    {
     "name": "stdout",
     "output_type": "stream",
     "text": [
      "I --> 1\n",
      "M --> 1000\n",
      "XI --> 11\n"
     ]
    }
   ],
   "source": [
    "class Roman:\n",
    "    def rom_to_int(self,number):\n",
    "        dictionary = {'I':1,'V':5,'X':10,'L':50,'C':100,'D':500,'M':1000}\n",
    "        integer = 0\n",
    "        for i in range(len(number)):\n",
    "            if i > 0 and dictionary[number[i]] >dictionary[number[i - 1]]:\n",
    "                integer+= dictionary[number[i]]-2*dictionary[number[i-1]]\n",
    "            else:\n",
    "                integer+=dictionary[number[i]]\n",
    "        print(f\"{number} --> {integer}\")\n",
    "\n",
    "r=Roman()\n",
    "r.rom_to_int('I')\n",
    "r.rom_to_int('M')\n",
    "r.rom_to_int('XI')\n"
   ]
  },
  {
   "cell_type": "markdown",
   "metadata": {},
   "source": [
    "## -------------------------------------------------------------------------------------------------"
   ]
  },
  {
   "cell_type": "markdown",
   "metadata": {},
   "source": [
    "Q3. Write the Python class to find the validity of the string of the\n",
    "parentheses, '(', ')', '{', '}', '[' and '] and the brackets must be closed\n",
    "in the correct order, example - \"()\" and \"()[]{}\" are valid but \"[)\",\n",
    "\"({[)]\" and \"{{{\" are invalid.\n"
   ]
  },
  {
   "cell_type": "code",
   "execution_count": 11,
   "metadata": {},
   "outputs": [
    {
     "name": "stdout",
     "output_type": "stream",
     "text": [
      "(){}[] --> Valid\n",
      "()[{)} --> Invalid\n",
      "() --> Valid\n"
     ]
    }
   ],
   "source": [
    "class Check:\n",
    "   \n",
    "    def check_paranthese(self,brackets):\n",
    "        flag=0\n",
    "        para_list ={\"(\": \")\", \"{\": \"}\", \"[\": \"]\"}\n",
    "        for parenthese in brackets:\n",
    "            if flag==1:\n",
    "                break\n",
    "                \n",
    "            if parenthese in para_list:\n",
    "                pre=para_list[parenthese]\n",
    "    \n",
    "            elif parenthese!=pre:\n",
    "                print(f\"{brackets} --> Invalid\")\n",
    "                flag=1\n",
    "        if flag==0:\n",
    "            print(f\"{brackets} --> Valid\")\n",
    "            \n",
    "v=Check()\n",
    "v.check_paranthese(\"(){}[]\")\n",
    "v.check_paranthese(\"()[{)}\")\n",
    "v.check_paranthese(\"()\")\n"
   ]
  },
  {
   "cell_type": "markdown",
   "metadata": {},
   "source": [
    "## -------------------------------------------------------------------------------------------------"
   ]
  },
  {
   "cell_type": "markdown",
   "metadata": {},
   "source": [
    "Q4. Write the Python class to get all possible unique subsets from a set\n",
    "of distinct integers?\n",
    "\n",
    "    Input - [4, 5, 6]\n",
    "    Output - [[], [6], [5], [5, 6], [4], [4, 6], [4, 5], [4, 5, 6]]"
   ]
  },
  {
   "cell_type": "code",
   "execution_count": 12,
   "metadata": {},
   "outputs": [
    {
     "name": "stdout",
     "output_type": "stream",
     "text": [
      "Input :  [4, 5, 6]\n",
      "Unique subsets :  [[], [4], [5], [6], [4, 5], [4, 6], [5, 6], [4, 5, 6]]\n"
     ]
    }
   ],
   "source": [
    "from itertools import combinations\n",
    "class Unique_set:\n",
    "    def comb(self,lists):\n",
    "        l=[]\n",
    "        for i in range(len(lists)+1):\n",
    "            [l.append(list(j)) for j in combinations(lists,i)]\n",
    "        print(\"Input : \",lists)\n",
    "        print(\"Unique subsets : \",l)\n",
    "        \n",
    "u=Unique_set()\n",
    "u.comb([4,5,6])"
   ]
  },
  {
   "cell_type": "markdown",
   "metadata": {},
   "source": [
    "## -------------------------------------------------------------------------------------------------"
   ]
  },
  {
   "cell_type": "markdown",
   "metadata": {},
   "source": [
    "Q5. Write the Python class to find a pair of elements (indices of the two\n",
    "numbers) from a given array whose sum equals the specific target\n",
    "number?\n",
    "\n",
    "    Input: numbers- [10,20,10,40,50,60,70], target=50\n",
    "    Output- 3, 4"
   ]
  },
  {
   "cell_type": "code",
   "execution_count": 2,
   "metadata": {
    "scrolled": true
   },
   "outputs": [
    {
     "name": "stdout",
     "output_type": "stream",
     "text": [
      "The indices are : 0, 3\n",
      "The indices are : 1, 2\n"
     ]
    }
   ],
   "source": [
    "class Sum:\n",
    "    def __init__(self,numbers,target):\n",
    "        self.numbers=numbers\n",
    "        self.target=target\n",
    "    def find_index(self):\n",
    "        k=len(self.numbers)\n",
    "        for i in range(k):\n",
    "            j=k-1\n",
    "            while i<j:\n",
    "                if self.numbers[i]+self.numbers[j] == self.target:\n",
    "                    print(\"The indices are : \"+str(i)+\", \"+str(j))\n",
    "                j-=1\n",
    "s=Sum([10,20,30,40,50,60,70],50)\n",
    "s.find_index()\n"
   ]
  },
  {
   "cell_type": "markdown",
   "metadata": {},
   "source": [
    "## -------------------------------------------------------------------------------------------------"
   ]
  },
  {
   "cell_type": "markdown",
   "metadata": {},
   "source": [
    "Q6. Write the Python class to find the three elements that sum to zero\n",
    "from the set of n real numbers?\n",
    "\n",
    "    Input array- [-25, -10, -7, -3, 2, 4, 8, 10]\n",
    "    Output - [[-10, 2, 8], [-7, -3, 10]]\n"
   ]
  },
  {
   "cell_type": "code",
   "execution_count": 34,
   "metadata": {},
   "outputs": [
    {
     "name": "stdout",
     "output_type": "stream",
     "text": [
      "Output -  [[-10, 2, 8], [-7, -3, 10]]\n"
     ]
    }
   ],
   "source": [
    "from itertools import combinations\n",
    "class Telements:\n",
    "    def __init__(self,array):\n",
    "        self.array=array\n",
    "    def operation(self):\n",
    "        l=[]\n",
    "        for i in combinations(self.array,3):\n",
    "            i=list(i)\n",
    "            if sum(i)==0:\n",
    "                l.append(i)\n",
    "        print(\"Output - \",l)\n",
    "\n",
    "array=[-25, -10, -7, -3, 2, 4, 8, 10]                \n",
    "t=Telements(array)\n",
    "t.operation()\n",
    "\n"
   ]
  },
  {
   "cell_type": "markdown",
   "metadata": {},
   "source": [
    "## -------------------------------------------------------------------------------------------------"
   ]
  },
  {
   "cell_type": "markdown",
   "metadata": {},
   "source": [
    "Q7. Write the Python class to implement pow(x, n)?"
   ]
  },
  {
   "cell_type": "code",
   "execution_count": 45,
   "metadata": {},
   "outputs": [
    {
     "name": "stdout",
     "output_type": "stream",
     "text": [
      "0.125\n",
      "1\n",
      "15625\n"
     ]
    }
   ],
   "source": [
    "def power(b,p): \n",
    "  \n",
    "    if(p==0): \n",
    "        return 1\n",
    "   \n",
    "    t=power(b,int(p/2))  \n",
    "      \n",
    "    if (p%2==0): \n",
    "        return t*t \n",
    "    \n",
    "    else: \n",
    "        if(p>0): \n",
    "            return b*t*t \n",
    "        else: \n",
    "            return (t*t)/b \n",
    "          \n",
    "print((power(2,-3))) \n",
    "print((power(100,0)))\n",
    "print((power(5,6))) "
   ]
  },
  {
   "cell_type": "markdown",
   "metadata": {},
   "source": [
    "## -------------------------------------------------------------------------------------------------"
   ]
  },
  {
   "cell_type": "markdown",
   "metadata": {},
   "source": [
    "Q8. Write the Python class which has two methods get_String and\n",
    "print_String. get_String accept the string from the user and \n",
    "print_String print the string in upper case."
   ]
  },
  {
   "cell_type": "code",
   "execution_count": 14,
   "metadata": {},
   "outputs": [
    {
     "name": "stdout",
     "output_type": "stream",
     "text": [
      "Enter the string : python\n",
      "The string in uppercase :  PYTHON\n"
     ]
    }
   ],
   "source": [
    "class Strings:\n",
    "    def get_String(self):\n",
    "        self.string=input(\"Enter the string : \")\n",
    "    def print_String(self):\n",
    "        self.uper=self.string.upper()\n",
    "        print(\"The string in uppercase : \",self.uper)\n",
    "s=Strings()\n",
    "s.get_String()\n",
    "s.print_String()"
   ]
  },
  {
   "cell_type": "markdown",
   "metadata": {},
   "source": [
    "## -------------------------------------------------------------------------------------------------"
   ]
  },
  {
   "cell_type": "markdown",
   "metadata": {},
   "source": [
    "Q9. Write the Python class named Rectangle constructed by a length\n",
    "and width and the method which will compute the area of the\n",
    "rectangle?"
   ]
  },
  {
   "cell_type": "code",
   "execution_count": 16,
   "metadata": {},
   "outputs": [
    {
     "name": "stdout",
     "output_type": "stream",
     "text": [
      "Area of the rectangle is :  12\n"
     ]
    }
   ],
   "source": [
    "class Rectangle:\n",
    "    def __init__(self,length,width):\n",
    "        self.length=length\n",
    "        self.width=width\n",
    "    def area(self):\n",
    "        self.area=self.length*self.width\n",
    "        print(\"Area of the rectangle is : \",self.area)\n",
    "        \n",
    "r=Rectangle(3,4)\n",
    "r.area()"
   ]
  },
  {
   "cell_type": "markdown",
   "metadata": {},
   "source": [
    "## -------------------------------------------------------------------------------------------------"
   ]
  },
  {
   "cell_type": "markdown",
   "metadata": {},
   "source": [
    "Q10. Write the Python class named Circle constructed by the radius\n",
    "and two methods which will compute the area and perimeter of\n",
    "the circle?"
   ]
  },
  {
   "cell_type": "code",
   "execution_count": 6,
   "metadata": {},
   "outputs": [
    {
     "name": "stdout",
     "output_type": "stream",
     "text": [
      "Enter radius of the circle : 3\n",
      "Area =  28.274333882308138\n",
      "Perimeter =  18.84955592153876\n"
     ]
    }
   ],
   "source": [
    "import math\n",
    "class Circle:\n",
    "    def __init__(self,r):\n",
    "        self.radius=r\n",
    "    def area(self):\n",
    "        a=(radius**2)*math.pi\n",
    "        print(\"Area = \",a)\n",
    "    def perimeter(self):\n",
    "        p=2*math.pi*radius\n",
    "        print(\"Perimeter = \",p)\n",
    "\n",
    "radius=float(input(\"Enter radius of the circle : \"))\n",
    "c=Circle(radius)\n",
    "c.area()\n",
    "c.perimeter()"
   ]
  },
  {
   "cell_type": "markdown",
   "metadata": {},
   "source": [
    "## -------------------------------------------------------------------------------------------------"
   ]
  },
  {
   "cell_type": "markdown",
   "metadata": {},
   "source": [
    "Q11. Write the Python program to get the class name of an instance in\n",
    "Python?"
   ]
  },
  {
   "cell_type": "code",
   "execution_count": 24,
   "metadata": {
    "scrolled": true
   },
   "outputs": [
    {
     "name": "stdout",
     "output_type": "stream",
     "text": [
      "The instance <__main__.Circle object at 0x0000016BE3A1C390> belongs to 'Circle' class\n",
      "The instance <__main__.Strings object at 0x0000016BE3A213C8> belongs to 'Strings' class\n",
      "The instance <__main__.Check object at 0x0000016BE3A212B0> belongs to 'Check' class\n",
      "The instance <class 'int'> belongs to 'type' class\n",
      "The instance <class 'itertools.combinations'> belongs to 'type' class\n",
      "The instance <module 'math' (built-in)> belongs to 'module' class\n",
      "The instance 3.141592653589793 belongs to 'float' class\n"
     ]
    }
   ],
   "source": [
    "def out(string):\n",
    "    s=str(string)\n",
    "    for i in string:\n",
    "        print(f\"The instance {i} belongs to '{i.__class__.__name__}' class\")\n",
    "out([c,s,v,int,combinations,math,math.pi])"
   ]
  },
  {
   "cell_type": "markdown",
   "metadata": {},
   "source": [
    "## -------------------------------------------------------------------------------------------------"
   ]
  },
  {
   "cell_type": "markdown",
   "metadata": {},
   "source": [
    "Q12. Write the Python program to count the number of students of\n",
    "individual class?\n",
    "\n",
    "    Sample dataclasses = (\n",
    "    ('V', 1),\n",
    "    ('VI', 1),\n",
    "    ('V', 2),\n",
    "    ('VI', 2),\n",
    "    ('VI', 3),\n",
    "    ('VII', 1),\n",
    "    )\n",
    "    Expected OutputCounter({'VI': 3, 'V': 2, 'VII': 1})"
   ]
  },
  {
   "cell_type": "code",
   "execution_count": 26,
   "metadata": {},
   "outputs": [
    {
     "name": "stdout",
     "output_type": "stream",
     "text": [
      "Counter({'VI': 3, 'V': 2, 'VII': 1})\n"
     ]
    }
   ],
   "source": [
    "from collections import Counter\n",
    "data_class =(('V',1),('VI',1),('V',2),('VI',2),('VI',3), ('VII',1))\n",
    "numbers = Counter(name for name,number in data_class)\n",
    "print(numbers)\n"
   ]
  },
  {
   "cell_type": "markdown",
   "metadata": {},
   "source": [
    "## Great Job!"
   ]
  }
 ],
 "metadata": {
  "kernelspec": {
   "display_name": "Python 3",
   "language": "python",
   "name": "python3"
  },
  "language_info": {
   "codemirror_mode": {
    "name": "ipython",
    "version": 3
   },
   "file_extension": ".py",
   "mimetype": "text/x-python",
   "name": "python",
   "nbconvert_exporter": "python",
   "pygments_lexer": "ipython3",
   "version": "3.7.3"
  }
 },
 "nbformat": 4,
 "nbformat_minor": 2
}
