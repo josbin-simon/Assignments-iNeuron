{
 "cells": [
  {
   "cell_type": "markdown",
   "metadata": {},
   "source": [
    "# Subjective Assignment - 5 - Numpy 1"
   ]
  },
  {
   "cell_type": "markdown",
   "metadata": {},
   "source": [
    "Q1. Write the NumPy program to create a 2d array with 6 on the border\n",
    "and 0 inside?\n",
    "\n",
    "    Expected OutputOriginal array-\n",
    "    [ [6 6 6 6 6]\n",
    "     [ 6 6 6 6 6]\n",
    "     [ 6 6 6 6 6 ]\n",
    "    [ 6 6 6 6 6 ]\n",
    "    [ 6 6 6 6 ] ].\n",
    "    6 on the border and 0 inside in the array-\n",
    "    [[ 6 6 6 6 6]\n",
    "    [ 6 0 0 0 6]\n",
    "    [ 6 0 0 0 6]\n",
    "    [ 6 0 0 0 6]\n",
    "    [ 6 6 6 6 6]]."
   ]
  },
  {
   "cell_type": "code",
   "execution_count": 1,
   "metadata": {},
   "outputs": [],
   "source": [
    "import numpy as np"
   ]
  },
  {
   "cell_type": "code",
   "execution_count": 21,
   "metadata": {},
   "outputs": [
    {
     "name": "stdout",
     "output_type": "stream",
     "text": [
      "Original Array \n",
      " [[6 6 6 6 6]\n",
      " [6 6 6 6 6]\n",
      " [6 6 6 6 6]\n",
      " [6 6 6 6 6]\n",
      " [6 6 6 6 6]]\n",
      "6 on the border and 0 inside in the array-\n",
      " [[6 6 6 6 6]\n",
      " [6 0 0 0 6]\n",
      " [6 0 0 0 6]\n",
      " [6 0 0 0 6]\n",
      " [6 6 6 6 6]]\n"
     ]
    }
   ],
   "source": [
    "oa=np.ones((5,5),dtype=int)+5\n",
    "print(\"Original Array \\n\",oa)\n",
    "oa[1:-1,1:-1]=0\n",
    "print(\"6 on the border and 0 inside in the array-\\n\",np.mat(oa))"
   ]
  },
  {
   "cell_type": "markdown",
   "metadata": {},
   "source": [
    "## -------------------------------------------------------------------------------------------------"
   ]
  },
  {
   "cell_type": "markdown",
   "metadata": {},
   "source": [
    "Q2. Write the NumPy program to create a 8x8 matrix and fill it with the\n",
    "checkerboard pattern?\n",
    "    \n",
    "    Checkerboard pattern-\n",
    "    [[3 9 3 9 3 9 3 9]\n",
    "    [9 3 9 3 9 3 9 3]\n",
    "    [3 9 3 9 3 9 3 9]\n",
    "    [9 3 9 3 9 3 9 3]\n",
    "    [3 9 3 9 3 9 3 9]\n",
    "    [9 3 9 3 9 3 9 3]\n",
    "    [3 9 3 9 3 9 3 9]\n",
    "    [9 3 9 3 9 3 9 3]]."
   ]
  },
  {
   "cell_type": "code",
   "execution_count": 20,
   "metadata": {
    "scrolled": true
   },
   "outputs": [
    {
     "name": "stdout",
     "output_type": "stream",
     "text": [
      "Checkerboard pattern-\n",
      " [[3 9 3 9 3 9 3 9]\n",
      " [9 3 9 3 9 3 9 3]\n",
      " [3 9 3 9 3 9 3 9]\n",
      " [9 3 9 3 9 3 9 3]\n",
      " [3 9 3 9 3 9 3 9]\n",
      " [9 3 9 3 9 3 9 3]\n",
      " [3 9 3 9 3 9 3 9]\n",
      " [9 3 9 3 9 3 9 3]]\n"
     ]
    }
   ],
   "source": [
    "ch=np.ones([8,8],dtype=int)\n",
    "ch[::2,::2],ch[1::2,::2]=3,9\n",
    "ch[::2,1::2],ch[1::2,1::2]=9,3\n",
    "print(\"Checkerboard pattern-\\n\",np.mat(ch))"
   ]
  },
  {
   "cell_type": "markdown",
   "metadata": {},
   "source": [
    "## -------------------------------------------------------------------------------------------------"
   ]
  },
  {
   "cell_type": "markdown",
   "metadata": {},
   "source": [
    "Q3. Write the NumPy program to create an empty and a full array.\n",
    " \n",
    "     Expected Output-\n",
    "    [[4.45057637e-308 1.78021527e-306 8.45549797e-307 1.37962049e-306]\n",
    "    [1.11260619e-306 1.78010255e-306 9.79054228e-307 4.45057637e-308]\n",
    "    [8.45596650e-307 9.34602321e-307 4.94065646e-322 0.00000000e+000]]\n",
    "    [[6 6 6]\n",
    "    [6 6 6]\n",
    "    [6 6 6]]\n"
   ]
  },
  {
   "cell_type": "code",
   "execution_count": 32,
   "metadata": {
    "scrolled": true
   },
   "outputs": [
    {
     "name": "stdout",
     "output_type": "stream",
     "text": [
      "Empty array :\n",
      " [[0 0 0 0]\n",
      " [0 0 0 0]\n",
      " [0 0 0 0]]\n",
      "Full array :\n",
      " [[6 6 6]\n",
      " [6 6 6]\n",
      " [6 6 6]]\n"
     ]
    }
   ],
   "source": [
    "ea=np.empty([3,4],dtype=int)\n",
    "print(\"Empty array :\\n\",ea)\n",
    "fa=np.full([3,3],6)\n",
    "print(\"Full array :\\n\",fa)\n"
   ]
  },
  {
   "cell_type": "markdown",
   "metadata": {},
   "source": [
    "## -------------------------------------------------------------------------------------------------"
   ]
  },
  {
   "cell_type": "markdown",
   "metadata": {},
   "source": [
    "Q4. Write the NumPy program to convert the values of Centigrade\n",
    "degrees into the Fahrenheit degrees and the centigrade values are\n",
    "stored in the NumPy array.\n",
    "    \n",
    "    Sample Array -[0, 12, 45.21 ,34, 99.91]\n",
    "    Expected OutputValues in Fahrenheit degrees-\n",
    "    [ 0. 12. 45.21 34. 99.91]\n",
    "    Values in Centigrade degrees-\n",
    "    [-17.77777778 -11.11111111 7.33888889 1.11111111 37.72777778]"
   ]
  },
  {
   "cell_type": "code",
   "execution_count": 40,
   "metadata": {},
   "outputs": [
    {
     "name": "stdout",
     "output_type": "stream",
     "text": [
      "Values in Fahrenheit degrees-\n",
      " [ 0.   12.   45.21 34.   99.91]\n",
      "Values in Centigrade degrees-\n",
      " [-17.77777778 -11.11111111   7.33888889   1.11111111  37.72777778]\n"
     ]
    }
   ],
   "source": [
    "f=np.array([0,12,45.21,34,99.91])\n",
    "print(\"Values in Fahrenheit degrees-\\n\",f)\n",
    "c=(5*(f-32))/9\n",
    "print(\"Values in Centigrade degrees-\\n\",c)"
   ]
  },
  {
   "cell_type": "markdown",
   "metadata": {},
   "source": [
    "## -------------------------------------------------------------------------------------------------"
   ]
  },
  {
   "cell_type": "markdown",
   "metadata": {},
   "source": [
    "Q5. Write the NumPy program to find the real and imaginary parts of an\n",
    "array of complex numbers?\n",
    "\n",
    "    Expected OutputOriginal array [ 1.00000000+0.j 0.70710678+0.70710678j]\n",
    "    Real part of the array-\n",
    "    [ 1. 0.70710678]\n",
    "    Imaginary part of the array-\n",
    "    [ 0. 0.70710678]"
   ]
  },
  {
   "cell_type": "code",
   "execution_count": 53,
   "metadata": {},
   "outputs": [
    {
     "name": "stdout",
     "output_type": "stream",
     "text": [
      "Original array :  [1.        +0.j         0.70710678+0.70710678j]\n",
      "Real part of the array-\n",
      " [1.         0.70710678]\n",
      "Imaginary part of the array-\n",
      " [0.         0.70710678]\n"
     ]
    }
   ],
   "source": [
    "cn=np.array([1+0j,0.70710678+0.70710678j])\n",
    "print(\"Original array : \",cn)\n",
    "print(\"Real part of the array-\\n\",cn.real)\n",
    "print(\"Imaginary part of the array-\\n\",cn.imag)"
   ]
  },
  {
   "cell_type": "markdown",
   "metadata": {},
   "source": [
    "## -------------------------------------------------------------------------------------------------"
   ]
  },
  {
   "cell_type": "markdown",
   "metadata": {},
   "source": [
    "Q6. Write the NumPy program to test whether each element of a 1-D\n",
    "array is also present in the second array?\n",
    "\n",
    "    Expected OutputArray1: [ 0 10 20 40 60]\n",
    "    Array2: [0, 40]\n",
    "    Compare each element of array1 and array2\n",
    "    [ True False False True False]\n"
   ]
  },
  {
   "cell_type": "code",
   "execution_count": 63,
   "metadata": {},
   "outputs": [
    {
     "name": "stdout",
     "output_type": "stream",
     "text": [
      "Array1:  [ 0 10 20 40 60]\n",
      "Array2:  [ 0 40]\n",
      "Compare each element of array1 and array2\n",
      " [ True False False  True False]\n"
     ]
    }
   ],
   "source": [
    "a1=np.array([0,10,20,40,60])\n",
    "print(\"Array1: \",a1)\n",
    "a2=np.array([0,40])\n",
    "print(\"Array2: \",a2)\n",
    "oa=np.in1d(a1,a2)\n",
    "print(\"Compare each element of array1 and array2\\n\",oa)"
   ]
  },
  {
   "cell_type": "markdown",
   "metadata": {},
   "source": [
    "## -------------------------------------------------------------------------------------------------"
   ]
  },
  {
   "cell_type": "markdown",
   "metadata": {},
   "source": [
    "Q7. Write the NumPy program to find common values between two\n",
    "arrays?\n",
    "    \n",
    "    Expected OutputArray1: [ 0 10 20 40 60]\n",
    "    Array2: [10, 30, 40]\n",
    "    Common values between two arrays-\n",
    "    [10 40]"
   ]
  },
  {
   "cell_type": "code",
   "execution_count": 66,
   "metadata": {},
   "outputs": [
    {
     "name": "stdout",
     "output_type": "stream",
     "text": [
      "Array1:  [ 0 10 20 40 60]\n",
      "Array2:  [10 40]\n",
      "Common values between two arrays-\n",
      " [10 40]\n"
     ]
    }
   ],
   "source": [
    "a1=np.array([0,10,20,40,60])\n",
    "print(\"Array1: \",a1)\n",
    "a2=np.array([10,40])\n",
    "print(\"Array2: \",a2)\n",
    "common=np.intersect1d(a1,a2)\n",
    "print(\"Common values between two arrays-\\n\",common)"
   ]
  },
  {
   "cell_type": "markdown",
   "metadata": {},
   "source": [
    "## -------------------------------------------------------------------------------------------------"
   ]
  },
  {
   "cell_type": "markdown",
   "metadata": {},
   "source": [
    "Q8. Write the NumPy program to get the unique elements of an array?\n",
    "\n",
    "    Expected OutputOriginal array-\n",
    "    [10 10 20 20 30 30]\n",
    "    Unique elements of the above array-\n",
    "    [10 20 30]\n",
    "    P a g e 14 | 44\n",
    "    Original array-\n",
    "    [[1 1]\n",
    "    [2 3]]\n",
    "    Unique elements of the above array-\n",
    "    [1 2 3]"
   ]
  },
  {
   "cell_type": "code",
   "execution_count": 75,
   "metadata": {},
   "outputs": [
    {
     "name": "stdout",
     "output_type": "stream",
     "text": [
      "Original array-\n",
      " [10 10 20 20 30 30]\n",
      "Unique elements of the above array-\n",
      " [10 20 30]\n",
      "Original array-\n",
      " [[1 1]\n",
      " [2 3]]\n",
      "Unique elements of the above array-\n",
      " [1 2 3]\n"
     ]
    }
   ],
   "source": [
    "a1=np.array([10,10,20,20,30,30])\n",
    "print(\"Original array-\\n\",a1)\n",
    "uq1=np.unique(a1)\n",
    "print(\"Unique elements of the above array-\\n\",uq1)\n",
    "a2=np.array([[1,1],[2,3]])\n",
    "print(\"Original array-\\n\",a2)\n",
    "uq2=np.unique(a2)\n",
    "print(\"Unique elements of the above array-\\n\",uq2)"
   ]
  },
  {
   "cell_type": "markdown",
   "metadata": {},
   "source": [
    "## -------------------------------------------------------------------------------------------------"
   ]
  },
  {
   "cell_type": "markdown",
   "metadata": {},
   "source": [
    "Q9. Write the NumPy program to find the set exclusive-or of two arrays.\n",
    "Set exclusive-or will return the sorted, unique values that are in\n",
    "only one (not both) of the input arrays?\n",
    "\n",
    "    Array1- [ 0 10 20 40 60 80]\n",
    "    Array2- [10, 30, 40, 50, 70]\n",
    "    Unique values that are in only one (not both) of the input arrays-\n",
    "    [ 0 20 30 50 60 70 80]"
   ]
  },
  {
   "cell_type": "code",
   "execution_count": 77,
   "metadata": {},
   "outputs": [
    {
     "name": "stdout",
     "output_type": "stream",
     "text": [
      "Array1-  [ 0 10 20 40 60 80]\n",
      "Array2-  [10 30 40 50 70]\n",
      "Unique values that are in only one (not both) of the input arrays-\n",
      " [ 0 20 30 50 60 70 80]\n"
     ]
    }
   ],
   "source": [
    "a1=np.array([0,10,20,40,60,80])\n",
    "a2=np.array([10,30,40,50,70])\n",
    "uv=np.setxor1d(a1,a2)\n",
    "print(\"Array1- \",a1)\n",
    "print(\"Array2- \",a2)\n",
    "print(\"Unique values that are in only one (not both) of the input arrays-\\n\",uv)"
   ]
  },
  {
   "cell_type": "markdown",
   "metadata": {},
   "source": [
    "## -------------------------------------------------------------------------------------------------"
   ]
  },
  {
   "cell_type": "markdown",
   "metadata": {},
   "source": [
    "Q10. Write the NumPy program to test if all elements in an array\n",
    "evaluate to True ?\n",
    " \n",
    "Note: 0 evaluates to False in NumPy"
   ]
  },
  {
   "cell_type": "code",
   "execution_count": 83,
   "metadata": {},
   "outputs": [
    {
     "name": "stdout",
     "output_type": "stream",
     "text": [
      "[ 544   65 2655  840    0] False\n",
      "[1 2 3 4 5 6 7 8 9] True\n"
     ]
    }
   ],
   "source": [
    "a=np.array([544,65,2655,840,0])\n",
    "b=np.array([1,2,3,4,5,6,7,8,9])\n",
    "print(a,np.all(a))\n",
    "print(b,np.all(b))"
   ]
  },
  {
   "cell_type": "markdown",
   "metadata": {},
   "source": [
    "## -------------------------------------------------------------------------------------------------"
   ]
  },
  {
   "cell_type": "markdown",
   "metadata": {},
   "source": [
    "Q11. Write the NumPy program to test whether any array element along\n",
    "the given axis evaluates to True?\n",
    " \n",
    "Note: 0 evaluates to False in NumPy"
   ]
  },
  {
   "cell_type": "code",
   "execution_count": 89,
   "metadata": {
    "scrolled": true
   },
   "outputs": [
    {
     "name": "stdout",
     "output_type": "stream",
     "text": [
      "[[544  65  26   0]\n",
      " [  0  24  12  56]\n",
      " [ 25  87  65  45]] [False False  True]\n",
      "[[544  65  26   0]\n",
      " [  0  24  12  56]\n",
      " [ 25  87  65  45]] [False  True  True False]\n",
      "[[544  65  26   0]\n",
      " [  0  24  12  56]\n",
      " [ 25  87  65  45]] False\n"
     ]
    }
   ],
   "source": [
    "a=np.array([[544,65,26,0],[0,24,12,56],[25,87,65,45]])\n",
    "print(a,np.all(a,axis=1))\n",
    "print(a,np.all(a,axis=0))\n",
    "print(a,np.all(a))"
   ]
  },
  {
   "cell_type": "markdown",
   "metadata": {},
   "source": [
    "## -------------------------------------------------------------------------------------------------"
   ]
  },
  {
   "cell_type": "markdown",
   "metadata": {},
   "source": [
    "Q12. Write the NumPy program to construct an array by repeating?\n",
    "\n",
    "    Sample array- [1, 2, 3, 4]\n",
    "    Expected OutputOriginal array\n",
    "    [1, 2, 3, 4]\n",
    "    Repeating 2 times\n",
    "    [1 2 3 4 1 2 3 4]\n",
    "    Repeating 3 times\n",
    "    [1 2 3 4 1 2 3 4 1 2 3 4]"
   ]
  },
  {
   "cell_type": "code",
   "execution_count": 92,
   "metadata": {},
   "outputs": [
    {
     "name": "stdout",
     "output_type": "stream",
     "text": [
      "Original array\n",
      " [1 2 3 4]\n",
      "Repeating 2 times\n",
      " [1 2 3 4 1 2 3 4]\n",
      "Repeating 3 times\n",
      " [1 2 3 4 1 2 3 4 1 2 3 4]\n"
     ]
    }
   ],
   "source": [
    "array=np.array([1,2,3,4])\n",
    "print(\"Original array\\n\",array)\n",
    "array2t=np.tile(array,2)\n",
    "print(\"Repeating 2 times\\n\",array2t)\n",
    "array3t=np.tile(array,3)\n",
    "print(\"Repeating 3 times\\n\",array3t)"
   ]
  },
  {
   "cell_type": "markdown",
   "metadata": {},
   "source": [
    "## -------------------------------------------------------------------------------------------------"
   ]
  },
  {
   "cell_type": "markdown",
   "metadata": {},
   "source": [
    "Q13. Write the NumPy program to find the indices of the maximum and\n",
    "minimum values with the given axis of an array?\n",
    "\n",
    "    Original array- [1 2 3 4 5 6]\n",
    "    Maximum Values- 5\n",
    "    Minimum Values- 0"
   ]
  },
  {
   "cell_type": "code",
   "execution_count": 93,
   "metadata": {},
   "outputs": [
    {
     "name": "stdout",
     "output_type": "stream",
     "text": [
      "Original array :  [1 2 3 4 5 6]\n",
      "Maximum value index -  5\n",
      "Minimum value index -  0\n"
     ]
    }
   ],
   "source": [
    "array=np.array([1,2,3,4,5,6])\n",
    "print(\"Original array : \",array)\n",
    "print(\"Maximum value index - \",np.argmax(array))\n",
    "print(\"Minimum value index - \",np.argmin(array))"
   ]
  },
  {
   "cell_type": "markdown",
   "metadata": {},
   "source": [
    "## -------------------------------------------------------------------------------------------------"
   ]
  },
  {
   "cell_type": "markdown",
   "metadata": {},
   "source": [
    "Q14. Write the NumPy program compare two arrays using numpy?\n",
    "\n",
    "    Array a- [1 2]\n",
    "    Array b- [4 5]\n",
    "    a > b\n",
    "    [False False]\n",
    "    a >= b\n",
    "    [False False]\n",
    "    a < b\n",
    "    [ True True]\n",
    "    a <= b\n",
    "    [ True True]\n"
   ]
  },
  {
   "cell_type": "code",
   "execution_count": 100,
   "metadata": {},
   "outputs": [
    {
     "name": "stdout",
     "output_type": "stream",
     "text": [
      "Array a-  [1 2]\n",
      "Array b-  [4 5]\n",
      "a > b\n",
      "[False False]\n",
      "a >= b\n",
      "[False False]\n",
      "a < b\n",
      "[ True  True]\n",
      "a <= b\n",
      "[ True  True]\n"
     ]
    }
   ],
   "source": [
    "a=np.array([1,2])\n",
    "b=np.array([4,5])\n",
    "print(\"Array a- \",a)\n",
    "print(\"Array b- \",b)\n",
    "print(\"a > b\")\n",
    "print(a>b)\n",
    "print(\"a >= b\")\n",
    "print(a >= b)\n",
    "print(\"a < b\")\n",
    "print(a<b)\n",
    "print(\"a <= b\")\n",
    "print(a<=b)"
   ]
  },
  {
   "cell_type": "markdown",
   "metadata": {},
   "source": [
    "## -------------------------------------------------------------------------------------------------"
   ]
  },
  {
   "cell_type": "markdown",
   "metadata": {},
   "source": [
    "Q15. Write the NumPy program to sort an along the first, last axis of an\n",
    "array?\n",
    "\n",
    "    Sample array- [[2,5],[4,4]]\n",
    "    Expected OutputOriginal array:\n",
    "    [[4 6]\n",
    "    [2 1]]\n",
    "    Sort along the first axis:\n",
    "    [[2 1]\n",
    "    [4 6]]\n",
    "    Sort along the last axis-\n",
    "    [[1 2]\n",
    "    [4 6]]"
   ]
  },
  {
   "cell_type": "code",
   "execution_count": 103,
   "metadata": {},
   "outputs": [
    {
     "name": "stdout",
     "output_type": "stream",
     "text": [
      "Original array:\n",
      " [[4 6]\n",
      " [2 1]]\n",
      "Sort along the first axis:\n",
      " [[2 1]\n",
      " [4 6]]\n",
      "Sort along the last axis-\n",
      " [[1 2]\n",
      " [4 6]]\n"
     ]
    }
   ],
   "source": [
    "a=np.array([[4,6],[2,1]])\n",
    "print(\"Original array:\\n\",a)\n",
    "s0=np.sort(a,axis=0)\n",
    "print(\"Sort along the first axis:\\n\",s0)\n",
    "sl=np.sort(s0,axis=1)\n",
    "print(\"Sort along the last axis-\\n\",sl)"
   ]
  },
  {
   "cell_type": "markdown",
   "metadata": {},
   "source": [
    "## -------------------------------------------------------------------------------------------------"
   ]
  },
  {
   "cell_type": "markdown",
   "metadata": {},
   "source": [
    "Q16. Write the NumPy program to sort pairs of first name and last name\n",
    "return their indices (first by last name, then by first name).\n",
    "\n",
    "    first_names - ( Betsey, Shelley, Lanell, Genesis, Margery )\n",
    "    last_names - ( Battle, Brien, Plotner, Stahl, Woolum )\n",
    "    Expected Output-\n",
    "    [1 3 2 4 0]"
   ]
  },
  {
   "cell_type": "code",
   "execution_count": 114,
   "metadata": {},
   "outputs": [
    {
     "name": "stdout",
     "output_type": "stream",
     "text": [
      "First Names\n",
      " ['Margery' 'Betsey' 'Shelley' 'Lanell' 'Genesis']\n",
      "Last Names\n",
      " ['Woolum' 'Battle' 'Plotner' 'Brien' 'Stahl']\n",
      "[1 3 2 4 0]\n"
     ]
    }
   ],
   "source": [
    "\n",
    "first_names = np.array(['Margery','Betsey','Shelley','Lanell','Genesis'])\n",
    "last_names = np.array(['Woolum','Battle','Plotner','Brien','Stahl'])\n",
    "sort = np.lexsort((first_names, last_names))\n",
    "print(\"First Names\\n\",first_names)\n",
    "print(\"Last Names\\n\",last_names)\n",
    "print(sort)\n"
   ]
  },
  {
   "cell_type": "markdown",
   "metadata": {},
   "source": [
    "## -------------------------------------------------------------------------------------------------"
   ]
  },
  {
   "cell_type": "markdown",
   "metadata": {},
   "source": [
    "Q17. Write the NumPy program to get the values and indices of the\n",
    "elements that are bigger than 10 in the given array?\n",
    "\n",
    "    Original array-\n",
    "    [[ 0 10 20]\n",
    "    [20 30 40]]\n",
    "    Values bigger than 10 = [20 20 30 40]\n",
    "    Their indices are (array([0, 1, 1, 1]), array([2, 0, 1, 2]))"
   ]
  },
  {
   "cell_type": "code",
   "execution_count": 108,
   "metadata": {},
   "outputs": [
    {
     "name": "stdout",
     "output_type": "stream",
     "text": [
      "array\n",
      " [[ 0 10 20]\n",
      " [20 30 40]]\n",
      "Values bigger than 10 =  [20 20 30 40]\n",
      "Theie indices are  (array([0, 1, 1, 1], dtype=int64), array([2, 0, 1, 2], dtype=int64))\n"
     ]
    }
   ],
   "source": [
    "a=np.array([[0,10,20],[20,30,40]])\n",
    "print(\"array\\n\",a)\n",
    "print(\"Values bigger than 10 = \",a[a>10])\n",
    "print(\"Theie indices are \",np.where(a>10))"
   ]
  },
  {
   "cell_type": "markdown",
   "metadata": {},
   "source": [
    "## -------------------------------------------------------------------------------------------------"
   ]
  },
  {
   "cell_type": "markdown",
   "metadata": {},
   "source": [
    "Q18. Write the NumPy program to find the memory size of a NumPy\n",
    "array?\n",
    "\n",
    "    Expected Output128 bytes\n"
   ]
  },
  {
   "cell_type": "code",
   "execution_count": 113,
   "metadata": {},
   "outputs": [
    {
     "name": "stdout",
     "output_type": "stream",
     "text": [
      "Array\n",
      " [[1. 1. 1. 1.]\n",
      " [1. 1. 1. 1.]\n",
      " [1. 1. 1. 1.]\n",
      " [1. 1. 1. 1.]]\n",
      "128 bytes\n"
     ]
    }
   ],
   "source": [
    "a=np.ones((4,4))\n",
    "print(\"Array\\n\",a)\n",
    "size=a.size*a.itemsize\n",
    "print(f'{size} bytes')"
   ]
  },
  {
   "cell_type": "markdown",
   "metadata": {},
   "source": [
    "## Great Job!"
   ]
  }
 ],
 "metadata": {
  "kernelspec": {
   "display_name": "Python 3",
   "language": "python",
   "name": "python3"
  },
  "language_info": {
   "codemirror_mode": {
    "name": "ipython",
    "version": 3
   },
   "file_extension": ".py",
   "mimetype": "text/x-python",
   "name": "python",
   "nbconvert_exporter": "python",
   "pygments_lexer": "ipython3",
   "version": "3.7.3"
  }
 },
 "nbformat": 4,
 "nbformat_minor": 2
}
